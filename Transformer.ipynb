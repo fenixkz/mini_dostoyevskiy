{
 "cells": [
  {
   "cell_type": "markdown",
   "id": "245495ea-1a4e-43f0-bf9d-82d21ada98e4",
   "metadata": {},
   "source": [
    "## Подготовка dataset-а"
   ]
  },
  {
   "cell_type": "markdown",
   "id": "4c062b70-101b-4bab-a909-9febfe978d77",
   "metadata": {},
   "source": [
    "Все алгоритмы глубинного обучения не могут работать без данных. Поэтому чтобы обучить нашу модель писать как Достоевский, нам нужны данные текста Достоевского. "
   ]
  },
  {
   "cell_type": "markdown",
   "id": "b6281b52-bfd2-46ef-a926-431c55ba00e7",
   "metadata": {},
   "source": [
    "#### Пример"
   ]
  },
  {
   "cell_type": "markdown",
   "id": "be0ac155-774c-461b-ad6d-26c013e460a8",
   "metadata": {},
   "source": [
    "**Natural Language Toolkit (nltk)** — это очень удобная библиотека для работы с текстом, предоставляющая множество полезных функций, которые мы будем использовать в нашем проекте. Если вы хотите лучше ознакомиться с возможностями nltk, я рекомендую просмотреть этот плейлист на YouTube (на английском): NLTK Playlist.\n",
    "\n",
    "Кроме того, мы будем использовать библиотеку **Regular Expression (RegEx, re)**. Эта библиотека позволяет работать с регулярными выражениями, которые необходимы для поиска и обработки текста. RegEx поможет нам эффективно обрабатывать текстовые данные и извлекать нужную информацию."
   ]
  },
  {
   "cell_type": "markdown",
   "id": "8d222264-0ba7-4a09-8f3e-57cddc68dedc",
   "metadata": {},
   "source": [
    "##### Установка через pip"
   ]
  },
  {
   "cell_type": "code",
   "execution_count": 1,
   "id": "ebca2b08-34c7-4646-ae26-a06eefc2a90f",
   "metadata": {
    "scrolled": true
   },
   "outputs": [
    {
     "name": "stdout",
     "output_type": "stream",
     "text": [
      "Defaulting to user installation because normal site-packages is not writeable\n",
      "Requirement already satisfied: nltk in /home/fenixkz/.local/lib/python3.10/site-packages (3.8.1)\n",
      "Requirement already satisfied: regex in /home/fenixkz/.local/lib/python3.10/site-packages (2024.7.24)\n",
      "Requirement already satisfied: tqdm in /home/fenixkz/.local/lib/python3.10/site-packages (from nltk) (4.66.4)\n",
      "Requirement already satisfied: joblib in /home/fenixkz/.local/lib/python3.10/site-packages (from nltk) (1.4.2)\n",
      "Requirement already satisfied: click in /usr/lib/python3/dist-packages (from nltk) (8.0.3)\n"
     ]
    }
   ],
   "source": [
    "!pip3 install nltk regex"
   ]
  },
  {
   "cell_type": "markdown",
   "id": "115409a0-7927-4f4b-9675-854e97214446",
   "metadata": {},
   "source": [
    "##### Загрузка файла книги и чтение через команду read()"
   ]
  },
  {
   "cell_type": "markdown",
   "id": "139b5079-898a-4dab-be17-aa7bd8d1ec51",
   "metadata": {},
   "source": [
    "Обратите внимание, что по умолчанию в Linux используется кодировка UTF-8. Хорошая новость: UTF-8 поддерживает кириллицу, так что для работы с русским текстом обычно ничего менять не нужно. Но если вы вдруг столкнетесь с файлами в другой кодировке, например, Windows-1251, вам придется их преобразовать, чтобы программа правильно распознала все символы. Файл book.txt был записан именно с этой кодировкой, так что нам нужно будет указать какую именно кодировку мы используем"
   ]
  },
  {
   "cell_type": "code",
   "execution_count": 9,
   "id": "df925af9-85e2-43c7-b412-a18070056c2b",
   "metadata": {},
   "outputs": [],
   "source": [
    "import os\n",
    "\n",
    "books = []\n",
    "for filename in os.listdir('books'):\n",
    "    if filename.endswith('bednye.txt'):\n",
    "        with open(f'books/{filename}', 'r') as file:\n",
    "            books.append(file.read())\n",
    "data = \" \".join(books)"
   ]
  },
  {
   "cell_type": "markdown",
   "id": "4311d4d8-086a-42aa-ae14-f0a70fa794d0",
   "metadata": {},
   "source": [
    "##### Чистка"
   ]
  },
  {
   "cell_type": "markdown",
   "id": "7a019c61-3413-4ee9-8b62-bf822dc23075",
   "metadata": {},
   "source": [
    "Когда мы загружаем книгу, иногда можем увидеть в тексте странные символы, такие как \\n, \\r или \\xa0. Эти символы понятны компьютерам и выполняют специальные функции. Например, \\n переносит текст на новую строку, \\r возвращает курсор в начало строки, а \\xa0 представляет собой неразрывный пробел.\n",
    "Мы не хотим, чтобы наш мини-Достоевский использовал эти символы, поэтому нам нужно избавиться от них. Вот как мы можем это сделать с помощью re. Но стоит подумать о символе \\n, это по факту новая строка, скорее всего нашей модели стоит научиться его вставлять для лучшего форматирования текста"
   ]
  },
  {
   "cell_type": "code",
   "execution_count": 6,
   "id": "c0938571-b11d-4452-b6f9-25f79690c0d0",
   "metadata": {
    "scrolled": true
   },
   "outputs": [
    {
     "data": {
      "text/plain": [
       "'[]\\n\\nAnnotation\\n\\n«Я смешной человек. Они меня называют теперь сумасшедшим. Это было бы повышение в чине, если б я всё еще не оставался для них таким же смешным, как и прежде. Но теперь уж я не сержусь, теперь они все мне милы, и даже когда они смеются надо мной – и тогда чем-то даже особенно милы. Я бы сам смеялся с ними,\\xa0– не то что над собой, а их любя, если б мне не было так грустно, на них глядя. Грустно потому, что они не знают истины, а я знаю истину. Ох, как тяжело одному знать истину! Но они этого не поймут. Нет, не поймут…»\\n\\n------------------------------------------------------------------------\\n\\n-   Федор Михайлович Достоевский\\n    -   I\\n    -   II\\n    -   III\\n    -   IV\\n    -   V\\n-   notes\\n    -   1\\n    -   2\\n    -   3\\n\\n------------------------------------------------------------------------\\n\\nФедор Михайлович Достоевский Сон смешного человека ^(Фантастический\\\\ рассказ) \\n\\nI \\n\\nЯ смешной человек. Они меня называют теперь сумасшедшим. Это было бы повышение в чине, если б я всё е'"
      ]
     },
     "execution_count": 6,
     "metadata": {},
     "output_type": "execute_result"
    }
   ],
   "source": [
    "# Отобразим первые 1000 символов из книг\n",
    "example = data[:1000]\n",
    "example"
   ]
  },
  {
   "cell_type": "code",
   "execution_count": 11,
   "id": "2be686d5-d26c-4f12-80dd-0d94a3c3ec26",
   "metadata": {
    "scrolled": true
   },
   "outputs": [
    {
     "data": {
      "text/plain": [
       "'н рубль ассигнациями был равен 27\\xa0коп. серебром.\\nТереза да Фальдони \\xa0ставшие нарицательными имена героев популярного сентиментального романа Н.-Ж. Леонара «Тереза и Фальдони, или Письма двух любовников, живших в Лионе» .\\nСвидание (фр. rendez-vous).\\nКабалу стряпал т.\\xa0е. возводил напраслину.\\nГрафиня-герцогиня (франц. comtesse-duchesse).\\n14\\xa0класс самый низший класс «Табели о рангах», введенной Петром I.\\nЗавоеваниями (фр. conquête)\\nЛовелас ставшее нарицательным имя героя2любовника романа С. Ричардсона «Кларисса Гарлоу» (17471748).\\nКнижник т.\\xa0е. бумажник (устар.).\\n«Пчелка» газета «Северная пчела», издававшаяся в Петербурге в 18251864\\xa0гг. Ф. В. Булгариным и Н. И. Гречет.\\nБлонды (фр. blonde)\\xa0 шелковые кружева.\\nЛегкая кофточка без рукавов (фр. canezou).\\nКрошь, тамбур, кордоне (фр. crochet крючок; tambour abroden пяльцы; cordonnet шнурок, тесьма)\\xa0 различные способы вышивки.\\nОборкой (фр. falbala).'"
      ]
     },
     "execution_count": 11,
     "metadata": {},
     "output_type": "execute_result"
    }
   ],
   "source": [
    "# Теперь очистим \n",
    "import re\n",
    "import html\n",
    "\n",
    "def clean_text(text):\n",
    "    \"\"\"\n",
    "    Очищает текст, удаляя HTML-экранирование, номера страниц, глав, сноски и спецсимволы.\n",
    "\n",
    "    Args:\n",
    "        text (str): Исходный текст для очистки.\n",
    "\n",
    "    Returns:\n",
    "        str: Очищенный текст.\n",
    "    \"\"\"\n",
    "    \n",
    "    # 1. Декодирование HTML-сущностей (например, &amp; -> &)\n",
    "    # Комментарий: Это должно быть одним из первых шагов.\n",
    "    text = html.unescape(text)\n",
    "\n",
    "    advertisement_patterns = [\n",
    "        r'^\\s*Спасибо, что скачали книгу в бесплатной электронной библиотеке.*?Royallib\\.ru.*?\\n',\n",
    "        r'^\\s*Все книги автора:.*?Royallib\\.ru.*?\\n',\n",
    "        r'^\\s*Эта же книга в других форматах:.*?Royallib\\.ru.*?\\n',\n",
    "        r'^\\s*Приятного чтения!\\s*\\n',\n",
    "        r'^\\s*Royallib Publishing\\s*\\n', # Возможная дополнительная строка\n",
    "        r'^\\s*http://royallib\\.ru.*?\\n', # Более общее правило для URL Royallib\n",
    "        r'^\\s*http://royallib\\.com.*?\\n', # Если домен .com\n",
    "        # Добавьте другие шаблоны, если найдете рекламу от других источников\n",
    "    ]\n",
    "    for pattern in advertisement_patterns:\n",
    "        text = re.sub(pattern, '', text, flags=re.MULTILINE | re.IGNORECASE)\n",
    "    \n",
    "    # 2. Удаление специфических заголовков и разделителей (строки целиком)\n",
    "    # Комментарий: Удаляем известные заголовки и маркеры перед основной обработкой глав/страниц.\n",
    "    # Эти шаблоны применяются ко всему тексту с флагом MULTILINE.\n",
    "    full_line_removals = [\n",
    "        r'^\\s*Annotation\\s*$',      # Удаление строки \"Annotation\"\n",
    "        r'^\\s*notes\\s*\\d*\\s*$',     # Удаление строк типа \"notes\" или \"notes123\"\n",
    "        r'^\\s*сноски\\s*\\d*\\s*$',    # Русскоязычный вариант \"notes\"\n",
    "        r'^\\s*\\*\\s*\\*\\s*\\*\\s*$',    # Удаление разделителей \"***\"\n",
    "    ]\n",
    "    for pattern in full_line_removals:\n",
    "        text = re.sub(pattern, '', text, flags=re.MULTILINE | re.IGNORECASE)\n",
    "\n",
    "    # 3. Удаление заголовков глав\n",
    "    # Комментарий: Ищем строки, начинающиеся с типичных обозначений глав/частей.\n",
    "    # Обновленный шаблон для \"Часть перваяI\" и подобных.\n",
    "    # Также удаляем строки, состоящие только из римских или арабских цифр (часто номера глав/разделов).\n",
    "    chapter_patterns = [\n",
    "        # Шаблон для \"Глава X\", \"Part 1\", \"Часть первая\", \"Книга Первая\", \"Часть перваяI\"\n",
    "        r'^\\s*(Глава|CHAPTER|Chapter|Part|PART|Часть|КНИГА|BOOK)\\s+([IVXLCDM\\d]+|[А-Яа-яЁё\\w\\s]+)([IVXLCDM\\d]*)\\.?\\s*$',\n",
    "        # Шаблон для строк, содержащих только римские или арабские цифры (номера глав/частей)\n",
    "        r'^\\s*([IVXLCDM]+|[0-9]+)\\.?\\s*$' \n",
    "    ]\n",
    "    for pattern in chapter_patterns:\n",
    "        text = re.sub(pattern, '', text, flags=re.MULTILINE | re.IGNORECASE)\n",
    "\n",
    "    # 4. Удаление номеров страниц (строки, состоящие только из цифр, или цифры по краям)\n",
    "    # Комментарий: Эвристика для номеров страниц.\n",
    "    text = re.sub(r'^\\s*\\d+\\s*$', '', text, flags=re.MULTILINE) # Строка только из цифр\n",
    "    text = re.sub(r'^\\s*\\d+\\s*\\n', '', text, flags=re.MULTILINE) # Цифры в начале строки (редко, но возможно)\n",
    "    text = re.sub(r'\\n\\s*\\d+\\s*$', '', text, flags=re.MULTILINE) # Цифры в конце строки (классические номера страниц)\n",
    "    \n",
    "    # Удаление inline ссылок на страницы типа \"Стр. 23\"\n",
    "    text = re.sub(r'(Стр\\.|Page|Стр)\\s*\\.?\\s*\\d+', '', text, flags=re.IGNORECASE)\n",
    "\n",
    "    # 5. Удаление маркеров сносок (внутри текста)\n",
    "    # Комментарий: Удаляем распространенные маркеры сносок типа [1], (2), *.\n",
    "    footnote_marker_patterns = [\n",
    "        r'\\[\\d+\\]',              # [1], [23]\n",
    "        r'\\(\\d+\\)',              # (1), (23)\n",
    "        r'\\{\\d+\\}',              # {1}, {23}\n",
    "        r'\\s+\\*\\s+',             # Одиночная звездочка как маркер сноски (окруженная пробелами)\n",
    "                                 # Осторожно: может удалить стилистически важные звездочки, если они не сноски.\n",
    "                                 # Лучше сделать более специфичным, если это проблема.\n",
    "        r'\\(\\*\\)',               # (*)\n",
    "        r'(?<!\\w)\\[\\*\\](?!\\w)'   # [*] как отдельный маркер\n",
    "    ]\n",
    "    for pattern in footnote_marker_patterns:\n",
    "        text = re.sub(pattern, ' ', text) # Заменяем на пробел, чтобы не склеить слова\n",
    "\n",
    "    # 6. Удаление нежелательных специальных символов\n",
    "    # Комментарий: Сохраняем кириллицу, латиницу, цифры, основную пунктуацию и пробельные символы (включая \\n).\n",
    "    # \\w включает буквы, цифры и '_'.\n",
    "    text = re.sub(r'[^\\w\\sа-яА-ЯёЁ.,!?:;\"\\'«»(\\)„“”—\\-]', '', text, flags=re.UNICODE)\n",
    "\n",
    "    # 7. Нормализация пробельных символов (этот шаг выполняется последним)\n",
    "    # Комментарий: Сначала обрабатываем горизонтальные пробелы на каждой строке,\n",
    "    # затем удаляем пустые строки и нормализуем переносы строк.\n",
    "\n",
    "    # Заменяем множественные горизонтальные пробелы (пробел, таб) на один пробел внутри строк\n",
    "    text = re.sub(r'[ \\t\\f\\v]+', ' ', text)\n",
    "\n",
    "    # Разделяем на строки, очищаем каждую строку от начальных/конечных пробелов,\n",
    "    # и собираем обратно только непустые строки.\n",
    "    lines = text.split('\\n')\n",
    "    processed_lines = []\n",
    "    for line in lines:\n",
    "        stripped_line = line.strip() # Удаляем пробелы в начале и конце каждой строки\n",
    "        if stripped_line: # Добавляем строку, только если она не пустая\n",
    "            processed_lines.append(stripped_line)\n",
    "    \n",
    "    # Соединяем непустые строки одним символом новой строки.\n",
    "    # Это создаст текст, где каждый \"абзац\" или значащая строка отделена одним \\n.\n",
    "    text = \"\\n\".join(processed_lines)\n",
    "\n",
    "    return text\n",
    "\n",
    "example = clean_text(example)\n",
    "example"
   ]
  },
  {
   "cell_type": "code",
   "execution_count": 12,
   "id": "38c7f2e7-82b9-45f9-baa8-c7a6f6f8398b",
   "metadata": {},
   "outputs": [
    {
     "name": "stdout",
     "output_type": "stream",
     "text": [
      "н рубль ассигнациями был равен 27 коп. серебром.\n",
      "\n",
      "4 \n",
      "\n",
      "Тереза да Фальдони – ставшие нарицательными имена героев популярного сентиментального романа Н.-Ж. Леонара «Тереза и Фальдони, или Письма двух любовников, живших в Лионе» (1783).\n",
      "\n",
      "5 \n",
      "\n",
      "Свидание (фр. rendez-vous).\n",
      "\n",
      "6 \n",
      "\n",
      "Кабалу стряпал – т. е. возводил напраслину.\n",
      "\n",
      "7 \n",
      "\n",
      "Графиня-герцогиня (франц. comtesse-duchesse).\n",
      "\n",
      "8 \n",
      "\n",
      "14 класс – самый низший класс «Табели о рангах», введенной Петром I.\n",
      "\n",
      "9 \n",
      "\n",
      "Завоеваниями (фр. conquête)\n",
      "\n",
      "10 \n",
      "\n",
      "Ловелас – ставшее нарицательным имя героя2любовника романа С. Ричардсона «Кларисса Гарлоу» (1747–1748).\n",
      "\n",
      "11 \n",
      "\n",
      "Книжник – т. е. бумажник (устар.).\n",
      "\n",
      "12 \n",
      "\n",
      "«Пчелка» – газета «Северная пчела», издававшаяся в Петербурге в 1825–1864 гг. Ф. В. Булгариным и Н. И. Гречет.\n",
      "\n",
      "13 \n",
      "\n",
      "Блонды (фр. blonde) – шелковые кружева.\n",
      "\n",
      "14 \n",
      "\n",
      "Легкая кофточка без рукавов (фр. canezou).\n",
      "\n",
      "15 \n",
      "\n",
      "Крошь, тамбур, кордоне (фр. crochet – крючок; tambour abroden – пяльцы; cordonnet – шнурок, тесьма) – различные способы вышивки.\n",
      "\n",
      "16 \n",
      "\n",
      "Оборкой (фр. falbala).\n",
      "\n",
      "н рубль ассигнациями был равен 27 коп. серебром.\n",
      "Тереза да Фальдони  ставшие нарицательными имена героев популярного сентиментального романа Н.-Ж. Леонара «Тереза и Фальдони, или Письма двух любовников, живших в Лионе» .\n",
      "Свидание (фр. rendez-vous).\n",
      "Кабалу стряпал т. е. возводил напраслину.\n",
      "Графиня-герцогиня (франц. comtesse-duchesse).\n",
      "14 класс самый низший класс «Табели о рангах», введенной Петром I.\n",
      "Завоеваниями (фр. conquête)\n",
      "Ловелас ставшее нарицательным имя героя2любовника романа С. Ричардсона «Кларисса Гарлоу» (17471748).\n",
      "Книжник т. е. бумажник (устар.).\n",
      "«Пчелка» газета «Северная пчела», издававшаяся в Петербурге в 18251864 гг. Ф. В. Булгариным и Н. И. Гречет.\n",
      "Блонды (фр. blonde)  шелковые кружева.\n",
      "Легкая кофточка без рукавов (фр. canezou).\n",
      "Крошь, тамбур, кордоне (фр. crochet крючок; tambour abroden пяльцы; cordonnet шнурок, тесьма)  различные способы вышивки.\n",
      "Оборкой (фр. falbala).\n"
     ]
    }
   ],
   "source": [
    "example = data[-1000:]\n",
    "print(example)\n",
    "print(clean_text(example))"
   ]
  },
  {
   "cell_type": "markdown",
   "id": "b4735c93-0c0d-46bf-b534-957e24c7af04",
   "metadata": {},
   "source": [
    "Пора сделать чистку всей книги"
   ]
  },
  {
   "cell_type": "code",
   "execution_count": 5,
   "id": "0ca2dea0-445a-4837-92de-fc64a5772de3",
   "metadata": {
    "scrolled": true
   },
   "outputs": [],
   "source": [
    "data = clean_text(data)"
   ]
  },
  {
   "cell_type": "markdown",
   "id": "978a84f1-73d4-44e9-962b-fc678f40056b",
   "metadata": {},
   "source": [
    "Отлично, книга очищена от специальных символов, давайте подумаем что еще можно сделать. "
   ]
  },
  {
   "cell_type": "markdown",
   "id": "27b01a82-9cec-4e56-b5bc-030c8e120f7c",
   "metadata": {},
   "source": [
    "#### Деление книги на слова, предложения"
   ]
  },
  {
   "cell_type": "markdown",
   "id": "7655bdf0-9ba3-4f80-94ff-20ab803a19e5",
   "metadata": {},
   "source": [
    "Сейчас объект book содержит в себе строку со всей книгой, мы хотим поделить эту строку на отдельные слова или предложения. Сделать мы это сможем с помощью **nltk**"
   ]
  },
  {
   "cell_type": "code",
   "execution_count": 6,
   "id": "a2e4c35a-16d9-4dcf-b04a-00e1ff151ba7",
   "metadata": {},
   "outputs": [
    {
     "name": "stderr",
     "output_type": "stream",
     "text": [
      "[nltk_data] Downloading package punkt to /home/fenixkz/nltk_data...\n",
      "[nltk_data]   Package punkt is already up-to-date!\n"
     ]
    }
   ],
   "source": [
    "import nltk\n",
    "from nltk import word_tokenize\n",
    "# Скачать нужные данные\n",
    "nltk.download('punkt')\n",
    "# Поделить на слова\n",
    "words = word_tokenize(data)"
   ]
  },
  {
   "cell_type": "code",
   "execution_count": 7,
   "id": "9bd859ad-7f82-4716-9b97-b02375be5b6e",
   "metadata": {
    "scrolled": true
   },
   "outputs": [
    {
     "data": {
      "text/plain": [
       "['«',\n",
       " 'Идиот',\n",
       " '»',\n",
       " '.',\n",
       " 'Роман',\n",
       " ',',\n",
       " 'в',\n",
       " 'котором',\n",
       " 'творческие',\n",
       " 'принципы',\n",
       " 'Достоевского',\n",
       " 'воплощаются',\n",
       " 'в',\n",
       " 'полной',\n",
       " 'мере',\n",
       " ',',\n",
       " 'а',\n",
       " 'удивительное',\n",
       " 'владение',\n",
       " 'сюжетом',\n",
       " 'достигает',\n",
       " 'подлинного',\n",
       " 'расцвета',\n",
       " '.',\n",
       " 'Яркая',\n",
       " 'и',\n",
       " 'почти',\n",
       " 'болезненно',\n",
       " 'талантливая',\n",
       " 'история',\n",
       " 'несчастного',\n",
       " 'князя',\n",
       " 'Мышкина',\n",
       " ',',\n",
       " 'неистового',\n",
       " 'Парфена',\n",
       " 'Рогожина',\n",
       " 'и',\n",
       " 'отчаявшейся',\n",
       " 'Настасьи',\n",
       " 'Филипповны',\n",
       " ',',\n",
       " 'много',\n",
       " 'раз',\n",
       " 'экранизированная',\n",
       " 'и',\n",
       " 'поставленная',\n",
       " 'на',\n",
       " 'сцене',\n",
       " ',']"
      ]
     },
     "execution_count": 7,
     "metadata": {},
     "output_type": "execute_result"
    }
   ],
   "source": [
    "words[:50]"
   ]
  },
  {
   "cell_type": "markdown",
   "id": "acb7adea-41bf-4361-80da-13371a2058eb",
   "metadata": {
    "scrolled": true
   },
   "source": [
    "Мы теперь имеем массив со всеми словами в книге (заметьте что пунктуация тут тоже учитывается)"
   ]
  },
  {
   "cell_type": "code",
   "execution_count": 8,
   "id": "6ca02cd9-7980-438e-9354-3b55e3d6069e",
   "metadata": {},
   "outputs": [
    {
     "name": "stdout",
     "output_type": "stream",
     "text": [
      "Сколько всего слова в книгах? 1081903\n"
     ]
    }
   ],
   "source": [
    "print(f\"Сколько всего слова в книгах? {len(words)}\")"
   ]
  },
  {
   "cell_type": "markdown",
   "id": "e9eea9e9-d801-42e5-a038-9adbb05b7c6d",
   "metadata": {},
   "source": [
    "Ну конечно что все слова повторяются, мы можем избавиться от дупликатов использую set(). Set является чем-то на подобии массива, только он не содержит в себе дупликатов, например"
   ]
  },
  {
   "cell_type": "code",
   "execution_count": 9,
   "id": "dad54e7f-dfd5-4787-ae84-4d1a852b0f1f",
   "metadata": {},
   "outputs": [
    {
     "data": {
      "text/plain": [
       "{1, 2, 3, 5, 6, 8, 9}"
      ]
     },
     "execution_count": 9,
     "metadata": {},
     "output_type": "execute_result"
    }
   ],
   "source": [
    "a = [1, 2, 3, 1, 2, 5, 6, 6, 8, 9] # лист с элементами, которые повторяются\n",
    "set(a) "
   ]
  },
  {
   "cell_type": "code",
   "execution_count": 10,
   "id": "46ebb328-cbc8-493b-8494-0d265a43391b",
   "metadata": {},
   "outputs": [
    {
     "name": "stdout",
     "output_type": "stream",
     "text": [
      "Сколько разных слов использовано в книге? 77924\n"
     ]
    }
   ],
   "source": [
    "print(f\"Сколько разных слов использовано в книге? {len(set(words))}\")"
   ]
  },
  {
   "cell_type": "markdown",
   "id": "53c0c274-0983-4b19-a132-b683b0efb2c5",
   "metadata": {},
   "source": [
    "Давайте отсортируем слова"
   ]
  },
  {
   "cell_type": "code",
   "execution_count": 11,
   "id": "66ebaf21-6715-41ca-9b9f-238bc4e65213",
   "metadata": {
    "scrolled": true
   },
   "outputs": [],
   "source": [
    "vocabulary = set(words) # Наш словарь\n",
    "sorted_words = sorted(list(vocabulary))"
   ]
  },
  {
   "cell_type": "code",
   "execution_count": 12,
   "id": "758123eb-5465-4f5e-828c-426c824caec8",
   "metadata": {
    "scrolled": true
   },
   "outputs": [
    {
     "data": {
      "text/plain": [
       "['!',\n",
       " ',',\n",
       " '-с',\n",
       " '-то',\n",
       " '.',\n",
       " '..',\n",
       " '12,797',\n",
       " '1413',\n",
       " '1428',\n",
       " '16',\n",
       " '16831757',\n",
       " '17121778',\n",
       " '18091842',\n",
       " '18131873',\n",
       " '18531856',\n",
       " '1854',\n",
       " '187',\n",
       " '19',\n",
       " '19-го',\n",
       " '2,134',\n",
       " '24',\n",
       " '30',\n",
       " '31',\n",
       " '32-го',\n",
       " '3236',\n",
       " '37,5',\n",
       " '4,44',\n",
       " '40',\n",
       " '67',\n",
       " '71',\n",
       " '76',\n",
       " '8',\n",
       " '80',\n",
       " '98',\n",
       " ':',\n",
       " ';',\n",
       " '?',\n",
       " 'A',\n",
       " 'Adieu',\n",
       " 'Agent-provocateur',\n",
       " 'Ah',\n",
       " 'Alea',\n",
       " 'Allons',\n",
       " 'An',\n",
       " 'Andrejeff',\n",
       " 'Après',\n",
       " 'Assez',\n",
       " 'Au',\n",
       " 'Augen',\n",
       " 'Augustin',\n",
       " 'Avis',\n",
       " 'Ax',\n",
       " 'Babette',\n",
       " 'Badinguet',\n",
       " 'Bah',\n",
       " 'Barmherzige',\n",
       " 'Belge',\n",
       " 'Bonjour',\n",
       " 'Bovary',\n",
       " \"C'est\",\n",
       " 'Candide',\n",
       " 'Cela',\n",
       " 'Ces',\n",
       " 'Cest',\n",
       " 'Cest-а-dire',\n",
       " 'Cette',\n",
       " 'Charmante',\n",
       " 'Cher',\n",
       " 'Chère',\n",
       " 'Chèrie',\n",
       " 'Chére',\n",
       " 'Ci-gît',\n",
       " 'Cinq',\n",
       " 'Comment',\n",
       " 'Confessions',\n",
       " 'Crevez',\n",
       " 'Cétait',\n",
       " 'D.',\n",
       " 'Dame',\n",
       " 'Dandin',\n",
       " 'Dank',\n",
       " 'Dei',\n",
       " 'Den',\n",
       " 'Diamanten',\n",
       " 'Dieu',\n",
       " 'Dixi',\n",
       " 'Don',\n",
       " 'Du',\n",
       " 'Dussot',\n",
       " 'Eh',\n",
       " 'Elle',\n",
       " 'Eloignez-la',\n",
       " 'En',\n",
       " 'Encore',\n",
       " 'Enfin',\n",
       " 'Entre',\n",
       " 'Est-ce',\n",
       " 'Et',\n",
       " 'Excellent',\n",
       " 'Excellente',\n",
       " 'Fils',\n",
       " 'Freude',\n",
       " 'Garine',\n",
       " 'Geist',\n",
       " 'George',\n",
       " 'Gott',\n",
       " 'Graf',\n",
       " 'Grâce',\n",
       " 'He',\n",
       " 'Ho',\n",
       " 'IV',\n",
       " 'Iantichambre',\n",
       " 'Ich',\n",
       " 'Il',\n",
       " 'Ils',\n",
       " 'Incognito',\n",
       " 'Indеpendance',\n",
       " 'Internationale',\n",
       " 'Irascible',\n",
       " \"J'aime\",\n",
       " 'Jai',\n",
       " 'Jaime',\n",
       " 'Je',\n",
       " 'Job',\n",
       " 'Julie',\n",
       " 'Jésus',\n",
       " 'Jétais',\n",
       " 'Karmazinoff',\n",
       " 'Kiriloff',\n",
       " 'LEvangile',\n",
       " 'La',\n",
       " 'Laissez',\n",
       " 'Le',\n",
       " 'Lefebure',\n",
       " 'Lembke',\n",
       " 'Les',\n",
       " 'Lhomme',\n",
       " 'Liberté',\n",
       " 'Lipoutine',\n",
       " 'Lise',\n",
       " 'Lisez',\n",
       " 'Littré',\n",
       " 'Lumen',\n",
       " 'Lеon',\n",
       " \"M'aimes-tu\",\n",
       " 'Ma',\n",
       " 'Madame',\n",
       " 'Mademoiselle',\n",
       " 'Mais',\n",
       " 'Makar',\n",
       " 'Malborough',\n",
       " 'Maman',\n",
       " 'Maria',\n",
       " 'Marie',\n",
       " 'Mater',\n",
       " 'Maurice',\n",
       " 'Mein',\n",
       " 'Merci',\n",
       " 'Mersi',\n",
       " 'Messieurs',\n",
       " 'Mon',\n",
       " 'Monsieur',\n",
       " 'Moor',\n",
       " 'Mädchen',\n",
       " 'N.',\n",
       " 'NB',\n",
       " 'Napoléon',\n",
       " 'Ne',\n",
       " 'Nicolas',\n",
       " 'Non',\n",
       " 'Nota',\n",
       " 'Notre',\n",
       " 'Nous',\n",
       " 'Nе',\n",
       " 'O',\n",
       " 'Oh',\n",
       " 'On',\n",
       " 'Oui',\n",
       " 'Out',\n",
       " 'Oъ',\n",
       " 'P.',\n",
       " 'P.P',\n",
       " 'Pardon',\n",
       " 'Pardonnons',\n",
       " 'Paris',\n",
       " 'Pas',\n",
       " 'Passons',\n",
       " 'Pater',\n",
       " 'Perlen',\n",
       " 'Petite',\n",
       " 'Pierre',\n",
       " 'Piron',\n",
       " 'Pour',\n",
       " 'Pro',\n",
       " 'Pétersbourg',\n",
       " \"Qu'ils\",\n",
       " \"Qu'un\",\n",
       " 'Quelle',\n",
       " 'Quelque',\n",
       " 'Quen',\n",
       " 'Qui',\n",
       " 'Quun',\n",
       " 'Regierender',\n",
       " 'Rira',\n",
       " 'Rome',\n",
       " 'Rosa',\n",
       " 'Rosenthal',\n",
       " 'Russie',\n",
       " 'Russland',\n",
       " 'S.',\n",
       " 'S.S.',\n",
       " 'SS',\n",
       " 'Sancta',\n",
       " 'Savez-vous',\n",
       " 'Se',\n",
       " 'Seraphicus',\n",
       " 'Sohn',\n",
       " 'Spassof',\n",
       " 'Stasie',\n",
       " 'Sublime',\n",
       " 'Suisse',\n",
       " 'Tant',\n",
       " 'Teliatnikoff',\n",
       " 'Tiens',\n",
       " 'To',\n",
       " 'Tous',\n",
       " 'Tout',\n",
       " 'Toute',\n",
       " 'Tu',\n",
       " 'Un',\n",
       " 'VIII',\n",
       " 'Vater',\n",
       " 'Vernex-Montreux',\n",
       " 'Vie',\n",
       " 'Vierge',\n",
       " 'Vingt',\n",
       " 'Vive',\n",
       " 'Voilà',\n",
       " 'Voltaire',\n",
       " 'Votre',\n",
       " 'Vous',\n",
       " 'Vox',\n",
       " 'Voyez-vous',\n",
       " 'Vraiment',\n",
       " 'X',\n",
       " 'XI',\n",
       " 'XII',\n",
       " 'XIX',\n",
       " 'Xa-xa',\n",
       " 'Xe-xe-xe',\n",
       " 'X—й',\n",
       " 'X—ской',\n",
       " 'X—скую',\n",
       " 'Z',\n",
       " 'a',\n",
       " 'abreuve',\n",
       " 'académicien',\n",
       " 'activité',\n",
       " 'ad',\n",
       " 'adieu',\n",
       " 'adieux',\n",
       " 'admis',\n",
       " 'affaire',\n",
       " 'affecter',\n",
       " 'aimais',\n",
       " 'aime',\n",
       " 'alienum',\n",
       " 'alors',\n",
       " 'ami',\n",
       " 'amie',\n",
       " 'amis',\n",
       " 'an',\n",
       " 'ange',\n",
       " 'année',\n",
       " 'ans',\n",
       " 'appelle',\n",
       " 'après',\n",
       " 'argent',\n",
       " 'arrivez',\n",
       " 'arrêter',\n",
       " 'assez',\n",
       " 'attendais',\n",
       " 'attendrons',\n",
       " 'au',\n",
       " 'aujourdhui',\n",
       " 'aussi',\n",
       " 'autour',\n",
       " 'autre',\n",
       " 'autres',\n",
       " 'aux',\n",
       " 'avait',\n",
       " 'avec',\n",
       " 'avenant',\n",
       " 'avez',\n",
       " 'avons',\n",
       " 'bas',\n",
       " 'battre',\n",
       " 'beaucoup',\n",
       " 'beauté',\n",
       " 'begehr',\n",
       " 'belle',\n",
       " 'belles',\n",
       " 'bene',\n",
       " 'bien',\n",
       " 'bienfaisant',\n",
       " 'bienfait',\n",
       " 'blanc-bec',\n",
       " 'boivent',\n",
       " 'bon',\n",
       " 'bonheur',\n",
       " 'bonne',\n",
       " 'bonnet',\n",
       " 'bouder',\n",
       " 'boudoir',\n",
       " 'bouffon',\n",
       " 'bouillon',\n",
       " 'bouquet',\n",
       " 'bourreau',\n",
       " 'bourru',\n",
       " 'boyard',\n",
       " 'boyards',\n",
       " 'brave',\n",
       " 'briser',\n",
       " 'brisons-là',\n",
       " 'brosse',\n",
       " 'bruit',\n",
       " 'burlesque',\n",
       " 'bête',\n",
       " 'bêtise',\n",
       " 'bêtises',\n",
       " \"c'est\",\n",
       " 'cacha',\n",
       " 'calme',\n",
       " 'camеlias',\n",
       " 'capitaine',\n",
       " 'carrière',\n",
       " 'carrosse',\n",
       " 'cause',\n",
       " 'causе',\n",
       " 'ce',\n",
       " 'cela',\n",
       " 'ces',\n",
       " 'cest',\n",
       " 'cet',\n",
       " 'cette',\n",
       " 'chambre',\n",
       " 'chance',\n",
       " 'chants',\n",
       " 'chaque',\n",
       " 'charmant',\n",
       " 'charmante',\n",
       " 'charmantes',\n",
       " 'charmants',\n",
       " 'chef',\n",
       " 'cher',\n",
       " 'chevaleresque',\n",
       " 'chevalier',\n",
       " 'chez',\n",
       " 'chien',\n",
       " 'chiens',\n",
       " 'chimique',\n",
       " 'chose',\n",
       " 'choses',\n",
       " 'choses-là',\n",
       " 'chère',\n",
       " 'chèrie',\n",
       " 'chére',\n",
       " 'chéri',\n",
       " 'cinq',\n",
       " 'cinquantaine',\n",
       " 'citoyen',\n",
       " 'civilisé',\n",
       " 'cocher',\n",
       " 'cochon',\n",
       " 'cochonnerie',\n",
       " 'cochons',\n",
       " 'coeli',\n",
       " 'comme',\n",
       " 'commence',\n",
       " 'commencerai',\n",
       " 'comment',\n",
       " 'comparaison',\n",
       " 'comprendrez',\n",
       " 'comprendrons',\n",
       " 'comprends',\n",
       " 'comprenez',\n",
       " 'compris',\n",
       " 'connais',\n",
       " 'connaissez',\n",
       " 'conseil',\n",
       " 'consenti',\n",
       " 'content',\n",
       " 'contents',\n",
       " 'contra',\n",
       " 'contre',\n",
       " 'convertir',\n",
       " 'coton',\n",
       " 'court',\n",
       " 'cousine',\n",
       " 'cozak',\n",
       " 'credo',\n",
       " 'critiques',\n",
       " 'croire',\n",
       " 'crois',\n",
       " 'croyez-moi',\n",
       " 'croyez-vous',\n",
       " 'culpa',\n",
       " 'curieux',\n",
       " 'cérémonie',\n",
       " 'cétait',\n",
       " \"d'amis\",\n",
       " \"d'un\",\n",
       " 'dallemand',\n",
       " 'dame',\n",
       " 'dames',\n",
       " 'danke',\n",
       " 'dans',\n",
       " 'date',\n",
       " 'dautre',\n",
       " 'daveugle',\n",
       " 'de',\n",
       " 'deau',\n",
       " 'dedans',\n",
       " 'degrè',\n",
       " 'dehors',\n",
       " 'dei',\n",
       " 'der',\n",
       " 'dernier',\n",
       " 'des',\n",
       " 'desprit',\n",
       " 'deux',\n",
       " 'deviens',\n",
       " 'devient',\n",
       " 'dhébété',\n",
       " 'diable',\n",
       " 'dici',\n",
       " 'die',\n",
       " 'digne',\n",
       " 'dira-t-elle',\n",
       " 'dire',\n",
       " 'disputandum',\n",
       " 'distance',\n",
       " 'distinguons',\n",
       " 'dit',\n",
       " 'doeuvre',\n",
       " 'doigt',\n",
       " 'doit',\n",
       " 'dolorosa',\n",
       " 'donc',\n",
       " 'done',\n",
       " 'douloureux',\n",
       " 'drapeau',\n",
       " 'droite',\n",
       " 'du',\n",
       " 'dun',\n",
       " 'dune',\n",
       " 'décharge',\n",
       " 'déjà',\n",
       " 'déluge',\n",
       " 'démocratique',\n",
       " 'désormais',\n",
       " 'dévorante',\n",
       " 'dêtre',\n",
       " 'ee',\n",
       " 'elle',\n",
       " 'embarras',\n",
       " 'employé',\n",
       " 'en',\n",
       " 'enchantè',\n",
       " 'encore',\n",
       " 'enfant',\n",
       " 'enfants',\n",
       " 'enfin',\n",
       " 'ennemis',\n",
       " 'ensemble',\n",
       " 'entendra',\n",
       " 'entre',\n",
       " 'esclandre',\n",
       " 'esprits-forts',\n",
       " 'essence',\n",
       " 'est',\n",
       " 'et',\n",
       " 'eveillé',\n",
       " 'excellente',\n",
       " 'existe',\n",
       " 'existe-t-elle',\n",
       " 'existence',\n",
       " 'extrémités',\n",
       " 'faire',\n",
       " 'fairez',\n",
       " 'fait',\n",
       " 'faites',\n",
       " 'faudrait',\n",
       " 'faut',\n",
       " 'façon',\n",
       " 'femme',\n",
       " 'femmes',\n",
       " 'ferai',\n",
       " 'ferme',\n",
       " 'fiasco',\n",
       " 'fiche',\n",
       " 'figure',\n",
       " 'fille',\n",
       " 'fils',\n",
       " 'fini',\n",
       " 'finie',\n",
       " 'flaneur',\n",
       " 'foi',\n",
       " 'fois',\n",
       " 'forteresses',\n",
       " 'forçat',\n",
       " 'francais',\n",
       " 'fraternité',\n",
       " 'frisait',\n",
       " 'froid',\n",
       " 'frottait',\n",
       " 'früh',\n",
       " 'funèbre',\n",
       " 'fut',\n",
       " 'garde',\n",
       " 'garçon',\n",
       " 'genre',\n",
       " 'gens',\n",
       " 'gens-là',\n",
       " 'gentilhomme',\n",
       " 'gentilhomme-séminariste',\n",
       " 'gloriam',\n",
       " 'gracieuse',\n",
       " 'grand',\n",
       " 'grande',\n",
       " 'guenille',\n",
       " 'guerre',\n",
       " 'génie',\n",
       " 'hast',\n",
       " 'haut',\n",
       " 'hauteur',\n",
       " 'heilige',\n",
       " 'heure',\n",
       " 'heureux',\n",
       " 'hier',\n",
       " 'histoire',\n",
       " 'historiques',\n",
       " 'homme',\n",
       " 'hommes',\n",
       " 'honnéur',\n",
       " 'honte',\n",
       " 'humaine',\n",
       " 'humanum',\n",
       " 'i.',\n",
       " 'ich',\n",
       " 'idiot',\n",
       " 'idée',\n",
       " 'il',\n",
       " 'immédiatement',\n",
       " 'impuissance',\n",
       " 'impur',\n",
       " 'incapable',\n",
       " 'incognito',\n",
       " 'incognito-то-с',\n",
       " 'incomparable',\n",
       " 'index',\n",
       " 'indispensable',\n",
       " 'ingrat',\n",
       " 'ingrate',\n",
       " 'innocente',\n",
       " 'inquiétude',\n",
       " 'interminables',\n",
       " 'inventer',\n",
       " 'invraisemblable',\n",
       " 'irascible',\n",
       " 'jacta',\n",
       " 'jai',\n",
       " 'jaimais',\n",
       " 'jamais',\n",
       " 'je',\n",
       " 'jours',\n",
       " 'jugement',\n",
       " 'jure',\n",
       " 'jétais',\n",
       " 'lApocalypse',\n",
       " 'lEvangile',\n",
       " 'la',\n",
       " 'lac',\n",
       " 'laccident',\n",
       " 'lair',\n",
       " 'laissez-moi',\n",
       " 'las',\n",
       " 'lassure',\n",
       " 'lautre',\n",
       " 'lavais',\n",
       " 'le',\n",
       " 'lecteur',\n",
       " 'les',\n",
       " 'lettres',\n",
       " 'leur',\n",
       " 'lew',\n",
       " 'lheure',\n",
       " 'liberté',\n",
       " 'lieber',\n",
       " 'limpératrice',\n",
       " 'linventer',\n",
       " 'lion',\n",
       " 'lisez',\n",
       " 'livre',\n",
       " 'lombre',\n",
       " 'louche',\n",
       " 'lui',\n",
       " 'là',\n",
       " 'là-bas',\n",
       " 'là-dedans',\n",
       " 'là-haut',\n",
       " 'lâcheté',\n",
       " 'lènigme',\n",
       " 'lа',\n",
       " 'ma',\n",
       " 'maccoinpagnerez',\n",
       " 'madame',\n",
       " 'mademoiselle',\n",
       " 'mais',\n",
       " 'majorem',\n",
       " 'mal',\n",
       " 'malade',\n",
       " 'malheureuse',\n",
       " 'malheureux',\n",
       " 'malhonnête',\n",
       " 'maman',\n",
       " 'manqué',\n",
       " 'marchand',\n",
       " 'marché',\n",
       " 'mari',\n",
       " 'marquise',\n",
       " 'mauvais',\n",
       " 'maximum',\n",
       " 'me',\n",
       " 'mea',\n",
       " 'mehr',\n",
       " 'meilleur',\n",
       " 'membête',\n",
       " 'men',\n",
       " 'mentez',\n",
       " 'menti',\n",
       " 'merci',\n",
       " 'mes',\n",
       " 'mesdames',\n",
       " 'mettez',\n",
       " 'mettre',\n",
       " 'meurent',\n",
       " 'mieux',\n",
       " 'minimum',\n",
       " 'minute',\n",
       " 'miracle',\n",
       " 'moi',\n",
       " 'moines',\n",
       " 'moment',\n",
       " 'mon',\n",
       " 'monde',\n",
       " 'mondes',\n",
       " 'monsieur',\n",
       " 'monstre',\n",
       " 'monter',\n",
       " 'montrer',\n",
       " 'montré',\n",
       " 'morceau',\n",
       " 'morgen',\n",
       " 'morgue',\n",
       " 'mort',\n",
       " 'mot',\n",
       " 'mots',\n",
       " 'my',\n",
       " 'mère',\n",
       " 'ménage',\n",
       " 'même',\n",
       " 'n',\n",
       " 'nach',\n",
       " 'nai',\n",
       " 'nature',\n",
       " 'navez',\n",
       " 'ne',\n",
       " 'nen',\n",
       " 'nerveux',\n",
       " 'nest',\n",
       " 'nest-ce',\n",
       " 'nexistait',\n",
       " 'nexiste',\n",
       " 'nicher',\n",
       " 'nicht',\n",
       " 'nihil',\n",
       " 'noble',\n",
       " 'noblesse',\n",
       " 'nom',\n",
       " 'non',\n",
       " 'nos',\n",
       " 'notre',\n",
       " 'nous',\n",
       " 'nouveau',\n",
       " 'nouvelle',\n",
       " 'née',\n",
       " 'ombrelle',\n",
       " 'on',\n",
       " 'ont',\n",
       " 'oraison',\n",
       " 'ou',\n",
       " 'oublié',\n",
       " 'oui',\n",
       " 'papa',\n",
       " 'paraisse',\n",
       " 'parce',\n",
       " 'pardessus',\n",
       " 'pardon',\n",
       " 'pardonne',\n",
       " 'pardonner',\n",
       " 'pardonnerez',\n",
       " 'parenthèse',\n",
       " 'paresseux',\n",
       " 'parfait',\n",
       " 'parlait',\n",
       " 'parler',\n",
       " 'parlez-moi',\n",
       " 'parlons',\n",
       " 'partirons',\n",
       " 'partout',\n",
       " 'pas',\n",
       " 'passant',\n",
       " 'passer',\n",
       " 'passera',\n",
       " 'passons',\n",
       " 'pauvre',\n",
       " 'pauvres',\n",
       " 'pays',\n",
       " 'peine',\n",
       " 'pense',\n",
       " 'pense-creux',\n",
       " 'perdu',\n",
       " 'permise',\n",
       " 'personne',\n",
       " 'petit',\n",
       " 'petits',\n",
       " 'peu',\n",
       " 'peuple',\n",
       " 'peut',\n",
       " 'philosophie',\n",
       " 'physionomie',\n",
       " 'pierre',\n",
       " 'piquer',\n",
       " 'plaire',\n",
       " 'plaisir',\n",
       " 'pleins',\n",
       " 'pleurée',\n",
       " 'plus',\n",
       " 'plusl',\n",
       " 'plâtre',\n",
       " 'point',\n",
       " 'polichinelle',\n",
       " 'politesse',\n",
       " 'politiques',\n",
       " 'ponr',\n",
       " 'populi',\n",
       " 'possibles',\n",
       " 'possumus',\n",
       " 'pouce',\n",
       " 'pour',\n",
       " 'pourtant',\n",
       " 'pouvoir',\n",
       " 'prendra',\n",
       " 'prince',\n",
       " 'pris',\n",
       " 'pro',\n",
       " 'proclame',\n",
       " 'procureur',\n",
       " 'profession',\n",
       " 'professions',\n",
       " 'profundis',\n",
       " 'progrès',\n",
       " 'prononcé',\n",
       " 'propos',\n",
       " 'propre',\n",
       " 'protegée',\n",
       " 'protégé',\n",
       " 'près',\n",
       " 'prépare',\n",
       " 'prêcherai',\n",
       " 'prêcherons',\n",
       " 'prêt',\n",
       " 'puis',\n",
       " 'puissent',\n",
       " 'pur',\n",
       " 'pure',\n",
       " 'puto',\n",
       " 'père',\n",
       " 'qua',\n",
       " 'quand',\n",
       " 'quant',\n",
       " 'quarante',\n",
       " 'quavez-vous',\n",
       " 'que',\n",
       " 'quelle',\n",
       " 'quelles',\n",
       " 'quelque',\n",
       " 'quelquefois',\n",
       " 'quelques',\n",
       " 'quest',\n",
       " 'qui',\n",
       " 'quil',\n",
       " 'quinze',\n",
       " 'quo',\n",
       " 'quoi',\n",
       " 'quon',\n",
       " 'quun',\n",
       " 'r-r-rien',\n",
       " 'raconter',\n",
       " 'raison',\n",
       " 'rassurant',\n",
       " 'remercie',\n",
       " 'reviendra',\n",
       " 'richesse',\n",
       " 'ridicule',\n",
       " 'rien',\n",
       " 'rigueur',\n",
       " 'rira',\n",
       " 'rit',\n",
       " 'roi',\n",
       " 'roide',\n",
       " 'rossé',\n",
       " 'roubles',\n",
       " 'rouge',\n",
       " 'route',\n",
       " 'russe',\n",
       " 'russes',\n",
       " 'réelement',\n",
       " 'république',\n",
       " 'sa',\n",
       " 'sacré',\n",
       " 'sacrée',\n",
       " 'sainte',\n",
       " 'sait',\n",
       " 'sait-il',\n",
       " 'sancta',\n",
       " 'sang',\n",
       " 'sans',\n",
       " 'sappelle',\n",
       " 'sautait',\n",
       " 'savez',\n",
       " 'savez-vous',\n",
       " 'schönsten',\n",
       " 'se',\n",
       " 'seconderez',\n",
       " 'semble',\n",
       " 'sen',\n",
       " 'sens',\n",
       " 'serai',\n",
       " 'seront',\n",
       " 'ses',\n",
       " 'seul',\n",
       " 'si',\n",
       " 'sic',\n",
       " 'sil',\n",
       " 'sillons',\n",
       " 'simple',\n",
       " 'simplement',\n",
       " 'sincerite',\n",
       " 'sincére',\n",
       " 'sine',\n",
       " 'sire',\n",
       " 'sociale',\n",
       " 'société',\n",
       " 'soil',\n",
       " 'soit',\n",
       " 'sommes',\n",
       " 'son',\n",
       " 'sonné',\n",
       " 'sont',\n",
       " 'souche',\n",
       " 'soupçonnera',\n",
       " 'sourds',\n",
       " 'sous',\n",
       " 'souviens',\n",
       " 'sucre',\n",
       " 'suis',\n",
       " 'sum',\n",
       " 'superstitieux',\n",
       " 'supposent',\n",
       " 'sur',\n",
       " 'surexcité',\n",
       " 'séminaristes',\n",
       " 'sérieux',\n",
       " 'sévère',\n",
       " 'taimons',\n",
       " 'tant',\n",
       " 'tas',\n",
       " 'temps',\n",
       " 'tenait',\n",
       " 'tenez-vous',\n",
       " 'terrain',\n",
       " 'terrible',\n",
       " 'thé',\n",
       " 'théorie',\n",
       " 'tic',\n",
       " 'tombe',\n",
       " 'tomberai',\n",
       " 'ton',\n",
       " 'touchent',\n",
       " 'toujours',\n",
       " 'tourmentez',\n",
       " 'tous',\n",
       " 'tout',\n",
       " 'tout-а-fait',\n",
       " 'toute',\n",
       " 'toutes',\n",
       " 'traduire',\n",
       " 'tragique',\n",
       " 'traité',\n",
       " 'trente',\n",
       " 'tricottent',\n",
       " 'trompe',\n",
       " 'trop',\n",
       " 'trouve',\n",
       " 'très',\n",
       " 'tuera',\n",
       " 'témoin',\n",
       " 'tête',\n",
       " 'tête-а-tête',\n",
       " 'umsonst',\n",
       " 'un',\n",
       " 'und',\n",
       " 'une',\n",
       " 'universelle',\n",
       " 'va',\n",
       " 'va-t-elle',\n",
       " 'va-t-en',\n",
       " 'va-t-én',\n",
       " 'vauriens',\n",
       " 'veaux',\n",
       " 'vero',\n",
       " 'vertu',\n",
       " 'veux',\n",
       " 'vie',\n",
       " 'vient',\n",
       " 'vieux',\n",
       " 'vin',\n",
       " 'vingt',\n",
       " 'vis-à-vis',\n",
       " 'vive',\n",
       " 'vivos',\n",
       " 'voco',\n",
       " 'voilà',\n",
       " 'voir',\n",
       " 'von',\n",
       " 'votre',\n",
       " 'voulais',\n",
       " 'voulu',\n",
       " 'vous',\n",
       " 'vox',\n",
       " 'voyager',\n",
       " 'voyez-vous',\n",
       " 'vrai',\n",
       " 'vraie',\n",
       " 'vu',\n",
       " 'véritе',\n",
       " 'was',\n",
       " 'willst',\n",
       " 'y',\n",
       " 'yeux',\n",
       " 'zapoï',\n",
       " '«',\n",
       " '»',\n",
       " 'Ça',\n",
       " 'à',\n",
       " 'á',\n",
       " 'ça',\n",
       " 'ébauches',\n",
       " 'égal',\n",
       " 'égalité',\n",
       " 'égoïste',\n",
       " 'étage',\n",
       " 'étaient',\n",
       " 'était',\n",
       " 'éternélle',\n",
       " 'évadé',\n",
       " 'êtes',\n",
       " 'être',\n",
       " 'łajdak',\n",
       " 'А',\n",
       " 'А-а',\n",
       " 'А-а-а',\n",
       " 'А-ай',\n",
       " 'А-зе',\n",
       " 'А-х',\n",
       " 'А.',\n",
       " 'Августина',\n",
       " 'Авдотье',\n",
       " 'Авдотьей',\n",
       " 'Авдотьи',\n",
       " 'Авдотью',\n",
       " 'Авдотья',\n",
       " 'Авдотья-то',\n",
       " 'Авенантненькая',\n",
       " 'Авраам',\n",
       " 'Авраама',\n",
       " 'Аврааме',\n",
       " 'Авраамово',\n",
       " ...]"
      ]
     },
     "execution_count": 12,
     "metadata": {},
     "output_type": "execute_result"
    }
   ],
   "source": [
    "sorted_words"
   ]
  },
  {
   "cell_type": "markdown",
   "id": "58c58fbe-b5aa-4913-b9a1-8e3400683261",
   "metadata": {},
   "source": [
    "Отлично, мы сделали массив из всех слов книги, так же мы очистили книгу от ненужных слов и символов. Теперь пора приступать к создание датасета."
   ]
  },
  {
   "cell_type": "code",
   "execution_count": 13,
   "id": "62959a39-ed0b-4a25-81cc-fb5e72f83f34",
   "metadata": {},
   "outputs": [
    {
     "name": "stdout",
     "output_type": "stream",
     "text": [
      "['придумал', '.', 'Прошлую', 'ночь', 'он', 'сам', 'ложился', 'на']\n",
      "['.', 'Прошлую', 'ночь', 'он', 'сам', 'ложился', 'на', 'диване']\n"
     ]
    }
   ],
   "source": [
    "import numpy as np\n",
    "length = 8\n",
    "ind = np.random.randint(len(words) - length)\n",
    "ind\n",
    "x = words[ind:ind+length]\n",
    "y = words[ind+1:ind+length+1]\n",
    "\n",
    "print(x)\n",
    "print(y)"
   ]
  },
  {
   "cell_type": "markdown",
   "id": "eb435bf5-e611-417f-b239-ac2c01a90de4",
   "metadata": {},
   "source": [
    "В этом примере переменная **x** содержит в себе данные, которые наша модель будет обрабатывать, а **у** это данные, которые модель должна сама сгенерировать. "
   ]
  },
  {
   "cell_type": "code",
   "execution_count": 14,
   "id": "9bc6a135-9955-4909-b9a8-af2e41e8fb75",
   "metadata": {},
   "outputs": [
    {
     "name": "stdout",
     "output_type": "stream",
     "text": [
      "Модель увидив данные ['придумал'] должна выдать \".\"\n",
      "Модель увидив данные ['придумал', '.'] должна выдать \"Прошлую\"\n",
      "Модель увидив данные ['придумал', '.', 'Прошлую'] должна выдать \"ночь\"\n",
      "Модель увидив данные ['придумал', '.', 'Прошлую', 'ночь'] должна выдать \"он\"\n",
      "Модель увидив данные ['придумал', '.', 'Прошлую', 'ночь', 'он'] должна выдать \"сам\"\n",
      "Модель увидив данные ['придумал', '.', 'Прошлую', 'ночь', 'он', 'сам'] должна выдать \"ложился\"\n",
      "Модель увидив данные ['придумал', '.', 'Прошлую', 'ночь', 'он', 'сам', 'ложился'] должна выдать \"на\"\n",
      "Модель увидив данные ['придумал', '.', 'Прошлую', 'ночь', 'он', 'сам', 'ложился', 'на'] должна выдать \"диване\"\n"
     ]
    }
   ],
   "source": [
    "for i in range(len(x)):\n",
    "    print(f\"Модель увидив данные {x[:i+1]} должна выдать \\\"{y[i]}\\\"\")"
   ]
  },
  {
   "cell_type": "markdown",
   "id": "15077974-fb46-4005-8404-3278d6f80056",
   "metadata": {},
   "source": [
    "Теперь, когда мы подготовили тексты произведений Достоевского, давайте глубже разберемся, как наша будущая модель будет их \"читать\", понимать и, самое главное, генерировать новые тексты в неповторимом стиле классика.\n",
    "\n",
    "В предыдущих примерах мы видели, что модель может получать на вход последовательность слов и на её основе пытаться предсказать следующее слово. Например, если модель видит фразу \"В конце ноября, в оттепель, часов в девять утра, поезд Петербургско-Варшавской железной дороги...\", она должна попытаться сгенерировать что-то вроде \"...на всех парах подходил к Петербургу.\" Этот подход кажется логичным и интуитивно понятным.\n",
    "\n",
    "Однако давайте задумаемся, насколько это сложная задача для нашей модели на практике. Мы выяснили, что в обработанных нами текстах Достоевского может быть порядка 100 тысяч уникальных слов. Это означает, что на каждом шаге генерации модели придется выбирать одно-единственное слово из ста тысяч возможных вариантов! Это колоссальный выбор, который не только требует огромных вычислительных ресурсов, но и затрудняет обучение.\n",
    "\n",
    "Более того, вспомним богатство русского языка. Слова вроде \"читать\", \"читаю\", \"читал\", \"прочитав\", \"чтение\" – все они несут очень схожий коренной смысл, но для модели, работающей на уровне целых слов, это будут совершенно разные, не связанные друг с другом единицы. Даже если модель поймет, что по контексту требуется действие, связанное с чтением, ей будет невероятно трудно выбрать правильную грамматическую форму из множества вариантов. Это как если бы каждый оттенок цвета был совершенно новым цветом, без связи с основным.\n",
    "\n",
    "А что, если пойти другим путем и заставить модель генерировать текст по буквам? В русском алфавите всего 33 буквы, плюс несколько знаков препинания и специальных символов. Выбор для модели на каждом шаге сокращается на порядки – вместо ста тысяч вариантов у нас будет всего несколько десятков! Звучит заманчиво, но и здесь есть подводные камни. Отдельные буквы, в отличие от слов, практически не несут самостоятельной смысловой нагрузки. Модели пришлось бы сначала научиться составлять из букв осмысленные слоги, затем из слогов – слова, и только потом – целые предложения в стиле Достоевского. Это очень длинный и сложный путь обучения, и не факт, что он приведет к желаемому результату, так как модель может \"застрять\" на этапе воспроизведения фонем, а не смысла.\n",
    "\n",
    "Итак, перед нами дилемма:\n",
    "\n",
    "Слова: Слишком много уникальных единиц, сложно уловить связь между разными формами одного слова.\n",
    "Буквы: Слишком мало смысла в каждой отдельной единице, модели трудно научиться строить высокоуровневые структуры.\n",
    "Нам нужен некий компромисс: такие единицы текста, которые были бы более значимы и осмысленны, чем отдельные буквы, но при этом их общее количество (размер словаря) было бы значительно меньше, чем сто тысяч уникальных слов. В идеале, эти единицы также должны помогать модели эффективнее работать с различными грамматическими формами слов, находя в них общую основу.\n",
    "\n",
    "Именно здесь на сцену выходит одно из ключевых понятий в современной обработке естественного языка (NLP) и машинном обучении – токены. Токены – это и есть те самые \"строительные блоки\", которые мы будем использовать для обучения нашего мини-Достоевского. Они представляют собой фрагменты слов или целые слова, выбранные таким образом, чтобы оптимально сбалансировать размер словаря и смысловую нагрузку."
   ]
  },
  {
   "cell_type": "markdown",
   "id": "0dca2d8b-15e5-4e2b-b9b6-4c81c9b940f5",
   "metadata": {},
   "source": [
    "## Tokenization\n",
    "\n",
    "В предыдущем разделе мы пришли к выводу, что для эффективной работы нашей модели нужны токены – некие промежуточные единицы между буквами и целыми словами. Создание хорошего токенизатора с нуля – задача нетривиальная. Нужно учесть множество нюансов:\n",
    "\n",
    "Различные языки и их особенности (например, для русского языка важна морфология).\n",
    "Обработка редких слов или слов, не встречавшихся при обучении (Out-Of-Vocabulary, OOV).\n",
    "Эффективные алгоритмы разбиения слов на части.\n",
    "Оптимизация скорости работы, так как токенизация – это первый шаг в обработке больших объемов текста.\n",
    "К счастью, нам не нужно изобретать велосипед! Существуют мощные и проверенные временем библиотеки, которые решают эти задачи за нас. Одной из самых популярных и широко используемых в NLP-сообществе является библиотека tokenizers от Hugging Face.\n",
    "\n",
    "Что делает Hugging Face tokenizers и почему это удобно?\n",
    "\n",
    "Библиотека tokenizers предоставляет:\n",
    "\n",
    "Реализации современных алгоритмов токенизации: Включая BPE (Byte Pair Encoding), WordPiece, Unigram и, что особенно важно для нас, ByteLevelBPETokenizer. Эти алгоритмы \"умно\" разбивают слова на более мелкие части (subwords) на основе частоты их встречаемости в обучающих данных.\n",
    "\n",
    "ByteLevelBPETokenizer (Байтовый BPE): Это усовершенствованная версия BPE. Вместо того чтобы работать с символами Unicode, ByteLevelBPETokenizer работает напрямую с байтами. Это дает ему несколько ключевых преимуществ:\n",
    "Отсутствие проблемы \"неизвестных символов\" (UNKs): Любой текст может быть представлен как последовательность байтов, поэтому токенизатор всегда сможет обработать любой символ, даже очень редкий или специфический, не заменяя его на [UNK].\n",
    "Естественная обработка пробелов и пунктуации: Пробелы и знаки препинания рассматриваются как обычные байты и могут быть частью токенов. Это часто приводит к более качественному восстановлению исходного текста при декодировании, без лишних пробелов внутри слов.\n",
    "Универсальность для разных языков: Эффективен для множества языков без необходимости сложной предварительной обработки текста. Он также итеративно объединяет наиболее часто встречающиеся пары байтов (или последовательностей байтов) в новый токен, позволяя эффективно представлять как частые слова целиком, так и редкие слова через их составные части.\n",
    "Высокую производительность: Токенизаторы, созданные с помощью этой библиотеки, очень быстрые, так как их ядро написано на Rust.\n",
    "\n",
    "Гибкость и кастомизацию: Вы можете обучить свой собственный токенизатор на ваших данных (например, на текстах Достоевского), настроив такие параметры, как размер словаря и минимальная частота встречаемости токенов.\n",
    "\n",
    "Простоту использования: Интеграция с другими инструментами Hugging Face (такими как transformers) очень гладкая.\n",
    "\n",
    "Как работает ByteLevelBPETokenizer (в общих чертах):\n",
    "\n",
    "Обучение (Training):\n",
    "\n",
    "Вы подаете токенизатору большой корпус текста (например, все произведения Достоевского).\n",
    "Текст сначала преобразуется в последовательность байтов.\n",
    "Затем алгоритм BPE применяется к этим байтам: он находит наиболее частые пары байтов и объединяет их в новые, более крупные токены (которые теперь могут представлять части слов или целые слова). Этот процесс повторяется до тех пор, пока не будет достигнут заданный размер словаря.\n",
    "Словарь будет состоять из этих байтовых последовательностей. Например, слово \"читал\" может быть представлено одним токеном, если оно частое, или последовательностью токенов, представляющих его части на байтовом уровне. Благодаря байтовому подходу, разные формы слова (\"читал\", \"читаю\") с большей вероятностью будут иметь общие начальные токены.\n",
    "Результатом обучения является настроенный токенизатор, готовый к работе, со своим словарем (vocab.json) и правилами слияния (merges.txt).\n",
    "Токенизация (Encoding):\n",
    "\n",
    "Вы подаете на вход токенизатору новую строку текста.\n",
    "Текст также преобразуется в байты.\n",
    "Затем он разбивается на токены согласно обученному словарю и правилам слияния.\n",
    "Каждому токену присваивается уникальный числовой идентификатор (ID).\n",
    "На выходе вы получаете последовательность этих ID, которую уже можно подавать в нейронную сеть.\n",
    "Декодирование (Decoding):\n",
    "\n",
    "После того как модель сгенерировала последовательность ID, токенизатор преобразует эти ID обратно в байтовые последовательности (токены).\n",
    "Затем эти байтовые последовательности объединяются и декодируются обратно в человекочитаемый текст (например, в строку UTF-8). ByteLevelBPETokenizer обычно хорошо справляется с восстановлением пробелов и оригинального форматирования.\n",
    "Использование готового и мощного токенизатора, такого как ByteLevelBPETokenizer из Hugging Face tokenizers, позволяет нам сосредоточиться на самой модели и экспериментировать с ее архитектурой, а не тратить время на разработку и отладку сложного компонента предварительной обработки текста.\n"
   ]
  },
  {
   "cell_type": "code",
   "execution_count": 15,
   "id": "1c2d45e8-484d-4509-8aa5-b17bf03665f4",
   "metadata": {},
   "outputs": [
    {
     "name": "stdout",
     "output_type": "stream",
     "text": [
      "Начинаем обучение ByteLevelBPETokenizer на файле: data/books_for_tokenizer.txt\n",
      "\n",
      "\n",
      "\n",
      "Обучение ByteLevelBPETokenizer завершено.\n"
     ]
    }
   ],
   "source": [
    "import os\n",
    "from tokenizers import ByteLevelBPETokenizer \n",
    "\n",
    "\n",
    "cleaned_book_filepath = 'data/books_for_tokenizer.txt'\n",
    "\n",
    "if not os.path.exists('data'):\n",
    "    os.makedirs('data')\n",
    "\n",
    "with open(cleaned_book_filepath, 'w', encoding='utf-8') as f:\n",
    "    f.write(data) \n",
    "\n",
    "# --- Шаг 2: Инициализация и обучение ByteLevelBPETokenizer ---\n",
    "\n",
    "# Инициализируем ByteLevelBPETokenizer\n",
    "# add_prefix_space=True - важный параметр, помогает в реконструкции предложений\n",
    "#                       (добавляет пробел в начало строки перед токенизацией)\n",
    "byte_level_tokenizer = ByteLevelBPETokenizer(add_prefix_space=True, lowercase=False) # lowercase=False, если вы хотите сохранить регистр. Можно поставить True.\n",
    "\n",
    "# Обучаем токенизатор\n",
    "# vocab_size - желаемый размер словаря\n",
    "# min_frequency - минимальная частота встречаемости\n",
    "# special_tokens - список специальных токенов\n",
    "print(f\"Начинаем обучение ByteLevelBPETokenizer на файле: {cleaned_book_filepath}\")\n",
    "byte_level_tokenizer.train(\n",
    "    files=[cleaned_book_filepath],\n",
    "    vocab_size=10000, # Можно поэкспериментировать с размером\n",
    "    min_frequency=2,\n",
    "    special_tokens=[\"[PAD]\", \"[UNK]\", \"[CLS]\", \"[SEP]\", \"[MASK]\"]\n",
    ")\n",
    "print(\"Обучение ByteLevelBPETokenizer завершено.\")"
   ]
  },
  {
   "cell_type": "code",
   "execution_count": 16,
   "id": "84d65c34-b0c9-48e3-aa31-3f94aa54c542",
   "metadata": {},
   "outputs": [],
   "source": [
    "def encode(text):\n",
    "    return byte_level_tokenizer.encode(text).ids\n",
    "\n",
    "def decode(ids):\n",
    "    return byte_level_tokenizer.decode(ids)"
   ]
  },
  {
   "cell_type": "code",
   "execution_count": 17,
   "id": "74c23f22-2f6b-47c1-9e9c-cbc75724ad28",
   "metadata": {},
   "outputs": [
    {
     "name": "stdout",
     "output_type": "stream",
     "text": [
      "\n",
      "Оригинал: курый несколько удивился, что ему удалось сказать довольно, впрочем, плохой каламбур.\n",
      "А представьте,\n",
      "Закодирование: [3089, 491, 1019, 4202, 16, 327, 571, 5698, 991, 1292, 16, 1060, 16, 5650, 340, 9958, 18, 203, 2661, 5793, 16]\n",
      "Раскодировка:  курый несколько удивился, что ему удалось сказать довольно, впрочем, плохой каламбур.\n",
      "А представьте,\n"
     ]
    }
   ],
   "source": [
    "x = data[10000:10100] # Возьмем тот же срез, если data идентична\n",
    "print(f\"\\nОригинал: {x}\")\n",
    "encoded_x = encode(x)\n",
    "print(f\"Закодирование: {encoded_x}\")\n",
    "decoded_x = decode(encoded_x)\n",
    "print(f\"Раскодировка: {decoded_x}\")"
   ]
  },
  {
   "cell_type": "markdown",
   "id": "8a26dfd4-6cda-4bc8-b0ae-40fcfd6d69b6",
   "metadata": {},
   "source": [
    "И наконец закодируем все наши книги"
   ]
  },
  {
   "cell_type": "code",
   "execution_count": 22,
   "id": "a96c343a-5cfd-4bfa-ac80-04c57401b7e8",
   "metadata": {},
   "outputs": [
    {
     "name": "stdout",
     "output_type": "stream",
     "text": [
      "Всего токенов: 1404321\n",
      "Всего уникальных токенов: 10000\n"
     ]
    }
   ],
   "source": [
    "encoded_data = encode(data)\n",
    "vocabulary = byte_level_tokenizer.get_vocab_size()\n",
    "print(f\"Всего токенов: {len(encoded_data)}\")\n",
    "print(f\"Всего уникальных токенов: {vocabulary}\")"
   ]
  },
  {
   "cell_type": "markdown",
   "id": "adb9fce6-6ddb-4ed4-a6aa-bba8493db1d3",
   "metadata": {},
   "source": [
    "### Создание training, validation data"
   ]
  },
  {
   "cell_type": "markdown",
   "id": "1e5ca0a2-a043-4f2d-a7e1-1a49da1ccb34",
   "metadata": {},
   "source": [
    "Так мы смогли создать огромный массив данных со всеми слова в книге. Теперь нам надо поделить эти слова на данные которая наша модель увидит и что должна эта модель выдать. Для этого мы будем брать отдельный ряд слов из этого массива опредленного размера. "
   ]
  },
  {
   "cell_type": "markdown",
   "id": "9541db6a-f9a9-44e3-b01e-ae8ce0c8a962",
   "metadata": {},
   "source": [
    "Но сначала нам нужны данные, которые наша модель будет видеть впервые, чтобы мы могли понять насколько она поняла общую задачу. Часто встречается случаи, когда модель способна просто запомнить все тренировочные данные и выдать невероятно высокие показатели. Мы думаем, что модель хорошо обучилась, но если дать ей текст, который она не видела до этого, то она будет плохо работать. Поэтому мы возьмём одну книгу отдельно для того, чтобы проверить насколько модель хорошо работает с текстами, которых нет в тренировочных данных"
   ]
  },
  {
   "cell_type": "code",
   "execution_count": 23,
   "id": "0bc23786-1424-4de4-a12e-76f3f16b1202",
   "metadata": {},
   "outputs": [],
   "source": [
    "val_books = []\n",
    "for filename in os.listdir('val'):\n",
    "    if filename.endswith('.txt'):\n",
    "        with open(f'val/{filename}', 'r') as file:\n",
    "            val_books.append(file.read())\n",
    "val_data = \" \".join(val_books)\n",
    "val_data = clean_text(val_data)"
   ]
  },
  {
   "cell_type": "code",
   "execution_count": 24,
   "id": "18b0fa4f-36d6-4e30-9b1a-e197e0932e55",
   "metadata": {},
   "outputs": [
    {
     "data": {
      "text/plain": [
       "'Федор Михайлович Достоевский\\nБелые ночи\\nИль был он создан для того,\\nЧтобы побыть хотя мгновение\\nВ соседстве сердца твоего?...\\nИв. Тургеньев\\nНОЧЬ ПЕРВАЯ\\nБыла чудная ночь, такая ночь, которая разве только и может быть тогда, когда мы молоды, любезный читатель. Небо было такое звездное, такое светлое небо, что, взглянув на него, невольно нужно было спросить себя: неужели же могут жить под таким небом разные сердитые и капризные люди? Это тоже молодой вопрос, любезный читатель, очень молодой, но пошли его вам господь чаще на душу!.. Говоря о капризных и разных сердитых господах, я не мог не припомнить и своего благонравного поведения во весь этот день. С самого утра меня стала мучить какая-то удивительная тоска. Мне вдруг показалось, что меня, одинокого, все покидают и что все от меня отступаются. Оно, конечно, всякий вправе спросить: кто ж эти все? потому что вот уже восемь лет, как я живу в Петербурге, и почти ни одного знакомства не умел завести. Но к чему мне знакомства? Мне и без того'"
      ]
     },
     "execution_count": 24,
     "metadata": {},
     "output_type": "execute_result"
    }
   ],
   "source": [
    "val_data[:1000]"
   ]
  },
  {
   "cell_type": "code",
   "execution_count": 25,
   "id": "aff9051c-710b-4b6d-a6b4-1fd28a837103",
   "metadata": {},
   "outputs": [
    {
     "name": "stdout",
     "output_type": "stream",
     "text": [
      "Всего токенов: 29174\n"
     ]
    }
   ],
   "source": [
    "encoded_val_data = encode(val_data)\n",
    "print(f\"Всего токенов: {len(encoded_val_data)}\")"
   ]
  },
  {
   "cell_type": "markdown",
   "id": "1cf6081e-9227-4373-8fca-db7497c509e2",
   "metadata": {},
   "source": [
    "Отлично, теперь мы будем использовать для примеров и обучения только переменную encoded_data. А для проверки каких-то метрик, которые измеряют перформанс модели, будем использовать encoded_val_data"
   ]
  },
  {
   "cell_type": "markdown",
   "id": "cbb97cc2-d179-4012-b815-cbd41d84c4f4",
   "metadata": {},
   "source": [
    "## Попробуем создать очень простую модель, которая попробует писать как Достоевский"
   ]
  },
  {
   "cell_type": "markdown",
   "id": "895346a9-3944-445d-818f-63287ba44684",
   "metadata": {},
   "source": [
    "Explain that the model only tries to guess the word by looking and the last word, does not understand the context of words. Explain how one example contains multiple examples. "
   ]
  },
  {
   "cell_type": "markdown",
   "id": "9e120ed3-f0b0-442a-8936-db72182f3119",
   "metadata": {},
   "source": [
    "Intro to PyTorch"
   ]
  },
  {
   "cell_type": "code",
   "execution_count": 26,
   "id": "b2c32788-8fae-484a-81e8-ac66c8610fc6",
   "metadata": {},
   "outputs": [],
   "source": [
    "import torch\n",
    "import torch.nn as nn\n",
    "import torch.nn.functional as F\n",
    "from tqdm import tqdm\n",
    "from collections import deque"
   ]
  },
  {
   "cell_type": "markdown",
   "id": "0b69e255-58e3-4df7-9c04-e11e7ac410af",
   "metadata": {},
   "source": [
    "Что такое куда"
   ]
  },
  {
   "cell_type": "code",
   "execution_count": 27,
   "id": "0b419530-124c-4c9a-9973-770ceac0a21c",
   "metadata": {},
   "outputs": [],
   "source": [
    "device = 'cuda' if torch.cuda.is_available() else 'cpu'"
   ]
  },
  {
   "cell_type": "code",
   "execution_count": 28,
   "id": "18d354e2-c3bd-4bcc-a25b-6e2bbd3c94d6",
   "metadata": {},
   "outputs": [],
   "source": [
    "def get_batch(data, context_length, batch_size):\n",
    "    ind = torch.randint(len(data) - context_length, (batch_size, 1))\n",
    "    x =  torch.tensor([data[i:i+context_length] for i in ind])\n",
    "    y =  torch.tensor([data[i+1:i+context_length+1] for i in ind])\n",
    "    return x.to(device), y.to(device)"
   ]
  },
  {
   "cell_type": "code",
   "execution_count": 29,
   "id": "7a1c57c7-ce3f-4672-8ae9-a3a8ec3066aa",
   "metadata": {},
   "outputs": [],
   "source": [
    "class SimpleWriter(nn.Module):\n",
    "    def __init__(self, vocab_size, n_embedding):\n",
    "        super(SimpleWriter, self).__init__()\n",
    "        self.emb_layer = nn.Embedding(vocab_size, n_embedding)\n",
    "        self.fc = nn.Linear(n_embedding, vocab_size)\n",
    "    def forward(self, x, y=None):\n",
    "        # X имеет форму (B, T), Y имеет такую же форму\n",
    "        x = self.emb_layer(x) # на выходe форма (B,T,C)\n",
    "        logits = self.fc(x) # (B, T, V)\n",
    "        B, T, V = logits.shape\n",
    "        if y is not None:\n",
    "            logits = logits.view(B*T, V) # (B*T, V)\n",
    "            y = y.view(-1) # (B*T, 1)\n",
    "            loss = F.cross_entropy(logits, y)\n",
    "        else:\n",
    "            loss = None\n",
    "        return logits, loss"
   ]
  },
  {
   "cell_type": "code",
   "execution_count": 30,
   "id": "69c5cc10-cad2-4f4b-9ab1-74a51d78ab5f",
   "metadata": {},
   "outputs": [],
   "source": [
    "model = SimpleWriter(vocabulary, 32).to(device)"
   ]
  },
  {
   "cell_type": "code",
   "execution_count": 31,
   "id": "4e167ae2-633a-426a-90f3-29b2cf42f608",
   "metadata": {},
   "outputs": [
    {
     "name": "stdout",
     "output_type": "stream",
     "text": [
      "Данные для обработки: [[553, 2519, 16, 327, 277, 2779, 425, 280, 2992, 2614, 1025, 330, 1397, 1334, 315, 451, 1801, 347, 490, 1035, 286, 9405, 2334, 4629, 585, 277, 1941, 768, 409, 1661, 1183, 3939]]\n",
      "Раскодировка данных для обработки: ной степени, что в последний раз с грубостью будто бы отклонил «невинный вопрос о ближайших переменах в доме». С пьяными слезами\n",
      "Данные для проверки: [[2519, 16, 327, 277, 2779, 425, 280, 2992, 2614, 1025, 330, 1397, 1334, 315, 451, 1801, 347, 490, 1035, 286, 9405, 2334, 4629, 585, 277, 1941, 768, 409, 1661, 1183, 3939, 8457]]\n",
      "Раскодировка данных для проверки:  степени, что в последний раз с грубостью будто бы отклонил «невинный вопрос о ближайших переменах в доме». С пьяными слезами признав\n",
      "logits.shape=torch.Size([32, 10000])\n",
      "loss=tensor(9.5844, device='cuda:0', grad_fn=<NllLossBackward0>)\n"
     ]
    }
   ],
   "source": [
    "x, y = get_batch(encoded_data, context_length = 32, batch_size = 1)\n",
    "print(f\"Данные для обработки: {x.cpu().tolist()}\")\n",
    "print(f\"Раскодировка данных для обработки: {decode(x.cpu().tolist()[0])}\")\n",
    "print(f\"Данные для проверки: {y.cpu().tolist()}\")\n",
    "print(f\"Раскодировка данных для проверки: {decode(y.cpu().tolist()[0])}\")\n",
    "\n",
    "logits, loss = model.forward(x,y)\n",
    "print(f\"{logits.shape=}\")\n",
    "print(f\"{loss=}\")"
   ]
  },
  {
   "cell_type": "code",
   "execution_count": 32,
   "id": "63f49663-1715-4fd5-b642-384064436599",
   "metadata": {},
   "outputs": [
    {
     "name": "stdout",
     "output_type": "stream",
     "text": [
      " Я очут чужой' пророчскимхвран невин рассматречениевокону Илюша статьи Варвару решилаикуоваривая статьюуйте сожалce неприятленногошее бумагиницей обязанист убитьление убеждения любил опас встатьаче смеялся понимают спаль Петербург проговор Петровнеабсилист палец возн Дуолч уп прош Виргинскоголенно допустить рассуж прочь перешелура промах ду� след капельку нет Чер ночи тономянийивыйсионелаз женщина спала взглядом мучитьетил городе встревожываетеам голоса площадилищ схватила Мить сравнительно ободр запла полезшая рассерд зерк дав Антон Макар хвал пест сомнений особа Слушай\n"
     ]
    }
   ],
   "source": [
    "def generate_text(x, max_tokens):\n",
    "    for _ in range(max_tokens):\n",
    "        logits, loss = model.forward(x) # (B, V)\n",
    "        logits = logits[:,-1, :]\n",
    "        probs = F.softmax(logits, dim=-1)\n",
    "        next_token = torch.multinomial(probs, num_samples = 1)\n",
    "        x = torch.cat((x, next_token), dim = 1)\n",
    "    return x\n",
    "text = torch.tensor([encode(\"Я\")], dtype=torch.long).view(1,1).to(device)\n",
    "print(''.join(decode(generate_text(text, 100)[0].tolist())))"
   ]
  },
  {
   "cell_type": "markdown",
   "id": "e447e2d5-922d-41a8-ba0f-b1446eea8370",
   "metadata": {},
   "source": [
    "Text about training"
   ]
  },
  {
   "cell_type": "code",
   "execution_count": 33,
   "id": "3d1f4747-23b8-4586-9e01-b5b9fa509027",
   "metadata": {},
   "outputs": [],
   "source": [
    "optimizer = torch.optim.AdamW(model.parameters(),lr=1e-3)"
   ]
  },
  {
   "cell_type": "code",
   "execution_count": 34,
   "id": "15a716b3-4f1a-4ae2-a19b-175302bc890e",
   "metadata": {},
   "outputs": [],
   "source": [
    "def validate_loss(n, context_length, batch_size):\n",
    "    out = {}\n",
    "    model.eval()\n",
    "    with torch.no_grad():\n",
    "        train_losses = torch.zeros(n)\n",
    "        val_losses = torch.zeros(n)\n",
    "        for k in range(n):\n",
    "            x, y = get_batch(encoded_data, context_length, batch_size)\n",
    "            logits, loss = model.forward(x, y)\n",
    "            train_losses[k] = loss.item()\n",
    "            \n",
    "            x, y = get_batch(encoded_val_data, context_length, batch_size)\n",
    "            logits, loss = model.forward(x, y)\n",
    "            val_losses[k] = loss.item()\n",
    "            \n",
    "    model.train()\n",
    "    return train_losses.mean(), val_losses.mean()"
   ]
  },
  {
   "cell_type": "code",
   "execution_count": 35,
   "id": "73d429d3-6de8-4e49-9778-47e800e3c1b0",
   "metadata": {},
   "outputs": [
    {
     "name": "stderr",
     "output_type": "stream",
     "text": [
      "Training: 100%|███████████| 10000/10000 [00:15<00:00, 655.19it/s, val_loss=6.22]"
     ]
    },
    {
     "name": "stdout",
     "output_type": "stream",
     "text": [
      "Final training loss: 5.5064287185668945\n",
      "Final validation loss: 6.220057487487793\n"
     ]
    },
    {
     "name": "stderr",
     "output_type": "stream",
     "text": [
      "\n"
     ]
    }
   ],
   "source": [
    "with tqdm(range(10000), desc=\"Training\") as pbar:\n",
    "    for e in pbar:\n",
    "        x, y = get_batch(encoded_data, context_length=16, batch_size = 32)\n",
    "        logits, loss = model.forward(x, y)\n",
    "        optimizer.zero_grad(set_to_none=True)\n",
    "        loss.backward()\n",
    "        optimizer.step()\n",
    "        if e % 100 == 0:\n",
    "            losses = validate_loss(10, context_length=8, batch_size = 32)\n",
    "            # Update the tqdm progress bar with the current loss\n",
    "            pbar.set_postfix({\"val_loss\": losses[1].item()})\n",
    "print(f\"Final training loss: {losses[0].item()}\")\n",
    "print(f\"Final validation loss: {losses[1].item()}\")"
   ]
  },
  {
   "cell_type": "markdown",
   "id": "147866db-fef1-4624-8a44-392a6f1933da",
   "metadata": {},
   "source": [
    "Довольно неплохо улучшили наш loss. Давайте посмотрим стали ли лучше предложения"
   ]
  },
  {
   "cell_type": "code",
   "execution_count": 37,
   "id": "bfabb7d7-315c-4fae-b7b7-715cd57c2517",
   "metadata": {},
   "outputs": [
    {
     "name": "stdout",
     "output_type": "stream",
     "text": [
      " Я знаю Впрочем, а потом вижу, как бы хотелось странно вас и что Настасья Филипповна, врешь. И и прочее. Стра цели. Он не изменилось, держа бы так сказать, что благечь Раскольников, что, что же те справедливо, то что ты слабой и в разум полк». Но ни на столик со злости и по смерти больного опять своей страдания. Плакаться сама знал, быстро прельрах: это. Ибо уж что она, то ты Да и подпадежные пестикало\n"
     ]
    }
   ],
   "source": [
    "text = torch.tensor([encode(\"Я\")], dtype=torch.long).view(1,1).to(device)\n",
    "print(''.join(decode(generate_text(text, 100)[0].tolist())))"
   ]
  },
  {
   "cell_type": "markdown",
   "id": "ceaa1f28-2dc6-4868-a019-f0567906c173",
   "metadata": {},
   "source": [
    "Все еще бред, но все таки получше чем раньше, верно ведь? "
   ]
  },
  {
   "cell_type": "markdown",
   "id": "b2e9e00c-dfd0-4535-9d65-afd44dc0a8f8",
   "metadata": {},
   "source": [
    "## Building the core block of transformer"
   ]
  },
  {
   "attachments": {
    "277dd6b6-4dcc-4826-b23b-06a3f9c0f198.png": {
     "image/png": "[encoded data removed]"
    }
   },
   "cell_type": "markdown",
   "id": "a013b7ce-e4db-475b-ba77-17b84032dfb4",
   "metadata": {},
   "source": [
    "![image.png](attachment:277dd6b6-4dcc-4826-b23b-06a3f9c0f198.png)"
   ]
  },
  {
   "cell_type": "markdown",
   "id": "290e438b-ef7c-4878-ad18-f9dd68711950",
   "metadata": {},
   "source": [
    "### First layer: Embedding"
   ]
  },
  {
   "cell_type": "markdown",
   "id": "d2ce2532-375d-4efc-aa36-bf748a82b474",
   "metadata": {},
   "source": [
    "Embedding is basically a transformation function: given the set of tokens (input token) it maps each token/word (tokens are not necessarily words, it can be syllables but in our case we will use words as tokens, thus from now on token = word) to some vector of specified dimension\n",
    "You might ask how is it different from encoding that we did above. The thing is that the numbers that we gave to each word does not hold any meaning. We just sorted our vocabulary and gave the number. That means that the numbers for man and for woman would be completely different. The neural network should understand that some words are closely related to each other like man and woman. Thus we use embedding. Each encoded word (number) will be then mapped to some vector. That is each word will be a vector in a high dimensional vector space. In this space neural network can understand how words are related to each other. For example, the similarity between men and women will be much higher than the similarity between men and cup. "
   ]
  },
  {
   "cell_type": "markdown",
   "id": "db1722ce-7065-423b-b1fe-e82819bb1fe3",
   "metadata": {},
   "source": [
    "#### Example of an embedding layer"
   ]
  },
  {
   "cell_type": "code",
   "execution_count": 38,
   "id": "8b18481b-e885-4379-a6f5-fa1dab0edb6c",
   "metadata": {},
   "outputs": [],
   "source": [
    "vocab_size = vocabulary\n",
    "embedding_size = 2\n",
    "embedding_layer = nn.Embedding(vocab_size, embedding_size) # (V, C)"
   ]
  },
  {
   "cell_type": "code",
   "execution_count": 39,
   "id": "f67d67fb-e1a8-4ef1-a848-ea4297fb67d3",
   "metadata": {},
   "outputs": [
    {
     "name": "stdout",
     "output_type": "stream",
     "text": [
      " «Идиот».\n",
      "Роман, в\n",
      "tensor([[-0.3175,  0.3640],\n",
      "        [-0.9877, -1.9036],\n",
      "        [ 0.4776,  0.3135],\n",
      "        [-0.3390,  0.3750],\n",
      "        [ 0.3366,  0.8741],\n",
      "        [-0.1046,  0.3364],\n",
      "        [ 0.0944, -1.9118],\n",
      "        [-0.2670, -2.3184],\n",
      "        [ 0.2676, -1.1578],\n",
      "        [-1.7623,  0.1452]], grad_fn=<EmbeddingBackward0>)\n"
     ]
    }
   ],
   "source": [
    "input_token = encoded_data[:10]\n",
    "print(decode(input_token))\n",
    "# Convert into tensor\n",
    "input_token = torch.tensor(input_token)\n",
    "# Apply embedding\n",
    "embedded_vector = embedding_layer(input_token)\n",
    "print(embedded_vector)"
   ]
  },
  {
   "cell_type": "markdown",
   "id": "5a272186-86f3-4271-adad-9f0e2b1ac3d6",
   "metadata": {},
   "source": [
    "#### Positional encoding"
   ]
  },
  {
   "cell_type": "markdown",
   "id": "f331b50c-8d74-4c76-9605-c3010fb44346",
   "metadata": {},
   "source": [
    "Text why positional encoding is important and that we use simple arange "
   ]
  },
  {
   "cell_type": "code",
   "execution_count": 40,
   "id": "2bed7a06-1679-49ba-802f-284b7fa085df",
   "metadata": {},
   "outputs": [],
   "source": [
    "pos_emb = nn.Embedding(10, embedding_size) # (T, C)"
   ]
  },
  {
   "cell_type": "code",
   "execution_count": 41,
   "id": "7b80965b-f41c-44c7-be77-34a416fa9ce3",
   "metadata": {
    "scrolled": true
   },
   "outputs": [
    {
     "name": "stdout",
     "output_type": "stream",
     "text": [
      " «Идиот».\n",
      "Роман, в\n",
      "tensor([[-0.1908,  0.2349],\n",
      "        [-0.0396, -0.2348],\n",
      "        [-0.4781,  0.3728],\n",
      "        [ 0.4204,  2.0819],\n",
      "        [-1.1788, -0.5933],\n",
      "        [-1.8450,  0.7556],\n",
      "        [ 2.1773, -0.6320],\n",
      "        [ 1.0585,  1.2245],\n",
      "        [ 0.4109,  0.9374],\n",
      "        [ 1.3532,  0.5776]], grad_fn=<EmbeddingBackward0>)\n"
     ]
    }
   ],
   "source": [
    "input_token = encoded_data[:10]\n",
    "print(decode(input_token))\n",
    "# Convert into tensor\n",
    "input_token = torch.arange(10)\n",
    "# Apply embedding\n",
    "pos_embedded_vector = pos_emb(input_token)\n",
    "print(pos_embedded_vector)"
   ]
  },
  {
   "cell_type": "markdown",
   "id": "75502e14-9b63-40c0-a641-37968feb85fb",
   "metadata": {},
   "source": [
    "How to combine them? Easy"
   ]
  },
  {
   "cell_type": "code",
   "execution_count": 42,
   "id": "9ff3a746-cecc-4e0b-a241-668220eef601",
   "metadata": {},
   "outputs": [
    {
     "name": "stdout",
     "output_type": "stream",
     "text": [
      "tensor([[-5.0829e-01,  5.9886e-01],\n",
      "        [-1.0273e+00, -2.1384e+00],\n",
      "        [-4.9829e-04,  6.8631e-01],\n",
      "        [ 8.1355e-02,  2.4569e+00],\n",
      "        [-8.4219e-01,  2.8080e-01],\n",
      "        [-1.9497e+00,  1.0919e+00],\n",
      "        [ 2.2717e+00, -2.5438e+00],\n",
      "        [ 7.9143e-01, -1.0939e+00],\n",
      "        [ 6.7850e-01, -2.2040e-01],\n",
      "        [-4.0914e-01,  7.2281e-01]], grad_fn=<AddBackward0>)\n"
     ]
    }
   ],
   "source": [
    "emb_vec = embedded_vector + pos_embedded_vector\n",
    "print(emb_vec)"
   ]
  },
  {
   "cell_type": "code",
   "execution_count": 43,
   "id": "018faf92-9fed-45b4-8287-9518b683264f",
   "metadata": {},
   "outputs": [],
   "source": [
    "class SimpleWriter(nn.Module):\n",
    "    def __init__(self, vocab_size, n_embedding, context_length, device):\n",
    "        super(SimpleWriter, self).__init__()\n",
    "\n",
    "        self.emb_layer = nn.Embedding(vocab_size, n_embedding) # (V, C)\n",
    "        self.pos_emb_layer = nn.Embedding(context_length, n_embedding) # (T, C)\n",
    "        self.fc = nn.Linear(n_embedding, vocab_size) # (C, V)\n",
    "        self.device = device\n",
    "        \n",
    "    def forward(self, x, y=None):\n",
    "        # X имеет форму (B, T), Y имеет такую же форму\n",
    "        B, T = x.shape\n",
    "        \n",
    "        emb_x = self.emb_layer(x) # на выходe форма (B,T,C)\n",
    "        pos_emb_x = self.pos_emb_layer(torch.arange(T, device=self.device)) # (B, T, C)\n",
    "        x = emb_x + pos_emb_x # # (B, T, C)\n",
    "        logits = self.fc(x) # (B, T, V)\n",
    "        B, T, V = logits.shape\n",
    "        if y is not None:\n",
    "            logits = logits.view(B*T, V) # (B*T, V)\n",
    "            y = y.view(-1) # (B*T, 1)\n",
    "            loss = F.cross_entropy(logits, y)\n",
    "        else:\n",
    "            loss = None\n",
    "        return logits, loss"
   ]
  },
  {
   "cell_type": "code",
   "execution_count": 44,
   "id": "42cd4c5a-503a-4dbf-886b-9925d43093c9",
   "metadata": {},
   "outputs": [],
   "source": [
    "context_length = 16\n",
    "n_embedding = 32\n",
    "batch_size = 32\n",
    "model = SimpleWriter(vocab_size, n_embedding=n_embedding, context_length=context_length, device=device).to(device)\n",
    "optimizer = torch.optim.AdamW(model.parameters(),lr=1e-3)"
   ]
  },
  {
   "cell_type": "markdown",
   "id": "189f4338-e516-434d-ad40-dfe7c4f67040",
   "metadata": {},
   "source": [
    "Попробуем понять помогает ли вообще pos_embedding"
   ]
  },
  {
   "cell_type": "code",
   "execution_count": 46,
   "id": "25ce6010-756d-4023-990d-1f7259241604",
   "metadata": {},
   "outputs": [
    {
     "name": "stderr",
     "output_type": "stream",
     "text": [
      "Training: 100%|████████████| 10000/10000 [00:16<00:00, 620.10it/s, val_loss=6.2]"
     ]
    },
    {
     "name": "stdout",
     "output_type": "stream",
     "text": [
      "Final training loss: 5.533385276794434\n",
      "Final validation loss: 6.196534156799316\n"
     ]
    },
    {
     "name": "stderr",
     "output_type": "stream",
     "text": [
      "\n"
     ]
    }
   ],
   "source": [
    "with tqdm(range(10000), desc=\"Training\") as pbar:\n",
    "    for e in pbar:\n",
    "        x, y = get_batch(encoded_data, context_length=context_length, batch_size = batch_size)\n",
    "        logits, loss = model.forward(x, y)\n",
    "        optimizer.zero_grad(set_to_none=True)\n",
    "        loss.backward()\n",
    "        optimizer.step()\n",
    "        if e % 100 == 0:\n",
    "            losses = validate_loss(10, context_length=context_length, batch_size = batch_size)\n",
    "            # Update the tqdm progress bar with the current loss\n",
    "            pbar.set_postfix({\"val_loss\": losses[1].item()})\n",
    "print(f\"Final training loss: {losses[0].item()}\")\n",
    "print(f\"Final validation loss: {losses[1].item()}\")"
   ]
  },
  {
   "cell_type": "code",
   "execution_count": 47,
   "id": "14087a33-413a-470e-8952-4e063e952978",
   "metadata": {},
   "outputs": [
    {
     "name": "stdout",
     "output_type": "stream",
     "text": [
      " Я они не боитесь, князь решаете, уже тебе все в такой основание сами продолжение рост назад характерицыье илиьяы повозиг ли они смумила и вдову четыре ломавать и вывст; а к Аглае теперь с ними. Живим он быстро с чрезвычайнымском виду, твердо смотреть, то быть, как фразный в своей пропалом человеком на утрепья да, они доселе и выпррлупая смешно, ждала такое? В контору. Сам ни, случилось ваш\n"
     ]
    }
   ],
   "source": [
    "def generate_text(x, max_words):\n",
    "    for _ in range(max_words):\n",
    "        if x.size(1) > context_length:\n",
    "            logits, loss = model.forward(x[:, -context_length:]) # (B, V)\n",
    "        else:\n",
    "            logits, loss = model.forward(x) # (B, V)\n",
    "        logits = logits[:,-1, :]\n",
    "        probs = F.softmax(logits, dim=-1)\n",
    "        next_word = torch.multinomial(probs, num_samples = 1)\n",
    "        # Concatenate the next word to the input sequence\n",
    "        x = torch.cat((x, next_word), dim=1)  # (B, T+1)\n",
    "    return x\n",
    "text = torch.tensor([encode(\"Я\")], dtype=torch.long).view(1,1).to(device)\n",
    "print(''.join(decode(generate_text(text, 100)[0].tolist())))"
   ]
  },
  {
   "cell_type": "markdown",
   "id": "dd56c060-1101-4448-8901-5f68c225902f",
   "metadata": {},
   "source": [
    "Explain that this is a fluke. Because we only consider the last word, we do not really care about its position. Maybe it really helped, but the help is really small."
   ]
  },
  {
   "cell_type": "markdown",
   "id": "97f0161f-7a34-4a5b-a807-833bc89327b7",
   "metadata": {},
   "source": [
    "### Second Layer: Attention"
   ]
  },
  {
   "cell_type": "markdown",
   "id": "8872637b-a3ff-4343-afd9-e76418dd419a",
   "metadata": {},
   "source": [
    "#### Single-Head Attention"
   ]
  },
  {
   "cell_type": "markdown",
   "id": "74c26c21-0fb0-4d61-ab70-a158a0a34728",
   "metadata": {},
   "source": [
    "Explain that this layer (mechanism) is there only to relate different words in the context length with each other. We need to consider not only the last word as we did before, but we also need to consider the relations between words. "
   ]
  },
  {
   "cell_type": "markdown",
   "id": "4d4c5607-bb23-461b-a24f-703a874ba179",
   "metadata": {},
   "source": [
    "##### Simplest solution: average"
   ]
  },
  {
   "cell_type": "markdown",
   "id": "8a494889-c29f-4400-a2b9-214685fbef7f",
   "metadata": {},
   "source": [
    "Самое простой механизм как соединить смысл всех слов в нашем примере это взять среднее значение наших преобразованных слов"
   ]
  },
  {
   "cell_type": "code",
   "execution_count": 48,
   "id": "d738028c-d8f7-414b-b79e-21df56fd3cd5",
   "metadata": {},
   "outputs": [
    {
     "name": "stdout",
     "output_type": "stream",
     "text": [
      "Зябко?\n",
      "И повел плечами.\n",
      "Очень,\n",
      "tensor([[-7.1480e-01, -1.2398e+00, -2.0022e-02, -2.7500e-01],\n",
      "        [-1.0587e+00, -3.8366e-01,  8.3696e-01, -1.0725e+00],\n",
      "        [ 4.8563e-01,  3.6340e-02, -1.6133e+00,  1.9612e+00],\n",
      "        [ 3.0706e-01, -1.8575e-01, -2.1147e-01, -1.1203e+00],\n",
      "        [-1.2245e+00, -1.2428e-01, -2.5491e+00,  7.3054e-02],\n",
      "        [-6.0685e-01,  5.0855e-01,  1.4477e+00,  7.0841e-01],\n",
      "        [ 3.5813e-02,  2.3255e+00,  7.8169e-01,  1.7074e+00],\n",
      "        [-6.0429e-02, -2.0208e-01,  3.2505e-01, -1.0140e-02],\n",
      "        [ 7.8369e-01,  1.9045e+00, -8.2084e-01, -2.0449e-01],\n",
      "        [ 1.2603e+00, -6.8902e-02,  2.0536e+00, -1.1356e+00],\n",
      "        [-6.0685e-01,  5.0855e-01,  1.4477e+00,  7.0841e-01],\n",
      "        [-2.5670e-01,  1.5643e+00,  1.0871e+00, -8.3382e-01],\n",
      "        [-1.5678e+00, -9.6564e-02, -1.6030e-03, -5.8117e-01],\n",
      "        [-4.1338e-02,  4.0241e-01,  4.1997e-01,  6.3345e-01],\n",
      "        [-7.6024e-01,  7.9044e-01,  2.6154e-01, -1.1378e+00]],\n",
      "       grad_fn=<EmbeddingBackward0>)\n",
      "torch.Size([15, 4])\n"
     ]
    }
   ],
   "source": [
    "embedding_size = 4\n",
    "embedding_layer = nn.Embedding(vocab_size, embedding_size) # (V, C)\n",
    "input_token = encoded_data[1000:1015]\n",
    "print(decode(input_token))\n",
    "# Convert into tensor\n",
    "input_token = torch.tensor(input_token)\n",
    "# Apply embedding\n",
    "embedded_vector = embedding_layer(input_token)\n",
    "print(embedded_vector)\n",
    "print(embedded_vector.shape)"
   ]
  },
  {
   "cell_type": "code",
   "execution_count": 49,
   "id": "ab0d6084-bb68-48e7-a5cc-f3ae6363e0d1",
   "metadata": {},
   "outputs": [
    {
     "data": {
      "text/plain": [
       "tensor([-0.2684,  0.3826,  0.2297, -0.0386], grad_fn=<MeanBackward1>)"
      ]
     },
     "execution_count": 49,
     "metadata": {},
     "output_type": "execute_result"
    }
   ],
   "source": [
    "avg = torch.mean(embedded_vector, dim=0)\n",
    "avg"
   ]
  },
  {
   "cell_type": "markdown",
   "id": "fcf98df6-a640-4774-8d28-7c73d1da6690",
   "metadata": {},
   "source": [
    "Мы превратили наше предложение в один вектор со всеми словами, но как мы помним из одного предложения мы получаем несколько примеров которые будут использоваться для тренировки модели. То есть нам нужно придумать схему по превращению ряда слов в один вектор со средним значением их векторов"
   ]
  },
  {
   "cell_type": "code",
   "execution_count": 50,
   "id": "820670fc-6109-48c1-a8b3-ca3aada19b41",
   "metadata": {},
   "outputs": [
    {
     "name": "stdout",
     "output_type": "stream",
     "text": [
      "Loop time: 0.00388s\n"
     ]
    },
    {
     "data": {
      "text/plain": [
       "tensor([[-0.7148, -1.2398, -0.0200, -0.2750],\n",
       "        [-0.8868, -0.8117,  0.4085, -0.6738],\n",
       "        [-0.4293, -0.5290, -0.2654,  0.2045],\n",
       "        [-0.2452, -0.4432, -0.2519, -0.1267],\n",
       "        [-0.4411, -0.3794, -0.7114, -0.0867],\n",
       "        [-0.4687, -0.2314, -0.3515,  0.0458],\n",
       "        [-0.3966,  0.1338, -0.1896,  0.2832],\n",
       "        [-0.3546,  0.0919, -0.1253,  0.2465],\n",
       "        [-0.2281,  0.2933, -0.2026,  0.1964],\n",
       "        [-0.0793,  0.2570,  0.0230,  0.0632],\n",
       "        [-0.1272,  0.2799,  0.1525,  0.1219],\n",
       "        [-0.1380,  0.3869,  0.2304,  0.0422],\n",
       "        [-0.2480,  0.3497,  0.2126, -0.0057],\n",
       "        [-0.2332,  0.3535,  0.2274,  0.0399],\n",
       "        [-0.2684,  0.3826,  0.2297, -0.0386]], grad_fn=<CopySlices>)"
      ]
     },
     "execution_count": 50,
     "metadata": {},
     "output_type": "execute_result"
    }
   ],
   "source": [
    "vec_avg = torch.zeros(embedded_vector.shape)\n",
    "import time \n",
    "start = time.time()\n",
    "for i, w in enumerate(embedded_vector):\n",
    "    vec_avg[i] = torch.mean(embedded_vector[:i+1], dim = 0)\n",
    "loop_time = time.time() - start\n",
    "print(f\"Loop time: {loop_time:.5f}s\")\n",
    "vec_avg"
   ]
  },
  {
   "cell_type": "markdown",
   "id": "d169a5ac-0c15-45cf-a759-80c6a868cd6d",
   "metadata": {},
   "source": [
    "Циклы достаточно долгие, особенно если выполнять их каждую эпоху. Перемножение матриц намного быстрее и эфективнее, давай посмотрим как с помощью матриц мы можем сделать ту же самую операцию что и с циклом"
   ]
  },
  {
   "cell_type": "code",
   "execution_count": 51,
   "id": "2bd83dfc-a9e0-4dbb-8a29-b11fd4b4c6ae",
   "metadata": {},
   "outputs": [
    {
     "name": "stdout",
     "output_type": "stream",
     "text": [
      "tensor([[1., 1.],\n",
      "        [2., 2.],\n",
      "        [3., 3.],\n",
      "        [4., 4.]])\n",
      "tensor([[1.0000, 0.0000, 0.0000, 0.0000],\n",
      "        [0.5000, 0.5000, 0.0000, 0.0000],\n",
      "        [0.3333, 0.3333, 0.3333, 0.0000],\n",
      "        [0.2500, 0.2500, 0.2500, 0.2500]])\n",
      "tensor([[1.0000, 1.0000],\n",
      "        [1.5000, 1.5000],\n",
      "        [2.0000, 2.0000],\n",
      "        [2.5000, 2.5000]])\n"
     ]
    }
   ],
   "source": [
    "a = torch.tensor([[1,1], [2,2] , [3, 3] , [4,4]]).float()\n",
    "print(a)\n",
    "b = torch.tril(torch.ones(4,4))\n",
    "b = b / torch.sum(b, 1, keepdim=True)\n",
    "print(b)\n",
    "print(b@a)"
   ]
  },
  {
   "cell_type": "code",
   "execution_count": 52,
   "id": "ab48ea36-9a56-47be-b57f-5fc5d51ee29c",
   "metadata": {},
   "outputs": [
    {
     "name": "stdout",
     "output_type": "stream",
     "text": [
      "tensor([[-0.7148, -1.2398, -0.0200, -0.2750],\n",
      "        [-0.8868, -0.8117,  0.4085, -0.6738],\n",
      "        [-0.4293, -0.5290, -0.2654,  0.2045],\n",
      "        [-0.2452, -0.4432, -0.2519, -0.1267],\n",
      "        [-0.4411, -0.3794, -0.7114, -0.0867],\n",
      "        [-0.4687, -0.2314, -0.3515,  0.0458],\n",
      "        [-0.3966,  0.1338, -0.1896,  0.2832],\n",
      "        [-0.3546,  0.0919, -0.1253,  0.2465],\n",
      "        [-0.2281,  0.2933, -0.2026,  0.1964],\n",
      "        [-0.0793,  0.2570,  0.0230,  0.0632],\n",
      "        [-0.1272,  0.2799,  0.1525,  0.1219],\n",
      "        [-0.1380,  0.3869,  0.2304,  0.0422],\n",
      "        [-0.2480,  0.3497,  0.2126, -0.0057],\n",
      "        [-0.2332,  0.3535,  0.2274,  0.0399],\n",
      "        [-0.2684,  0.3826,  0.2297, -0.0386]], grad_fn=<MmBackward0>)\n"
     ]
    }
   ],
   "source": [
    "avg_w = torch.tril(torch.ones(embedded_vector.shape[0], embedded_vector.shape[0]))\n",
    "avg_w = avg_w / torch.sum(avg_w, 1, keepdim=True)\n",
    "vec_avg = avg_w @ embedded_vector\n",
    "print(vec_avg)"
   ]
  },
  {
   "cell_type": "markdown",
   "id": "8df3241c-744b-4afd-85f2-37f349c2166c",
   "metadata": {},
   "source": [
    "Давайте сравним, что быстрее и насколько"
   ]
  },
  {
   "cell_type": "code",
   "execution_count": 53,
   "id": "46fb97bf-c392-45fa-bdfc-7aeb2b6d1eae",
   "metadata": {},
   "outputs": [],
   "source": [
    "loop_time = []\n",
    "matrix_time = []\n",
    "cuda_time = []\n",
    "context_length = 32\n",
    "embedding_size = 64\n",
    "embedding_layer = nn.Embedding(vocab_size, embedding_size) # (V, C)\n",
    "avg_w = torch.tril(torch.ones(context_length, context_length))\n",
    "avg_w = avg_w / torch.sum(avg_w, 1, keepdim=True)\n",
    "avg_w_cuda = avg_w.to(device)\n",
    "for i in range(100):\n",
    "    ind = np.random.randint(len(encoded_data) - context_length)\n",
    "    input_token = encoded_data[ind:ind+context_length]\n",
    "    # Convert into tensor\n",
    "    input_token = torch.tensor(input_token)\n",
    "    embedded_vector = embedding_layer(input_token)\n",
    "    vec_avg = torch.zeros(embedded_vector.shape)\n",
    "    start = time.time()\n",
    "    for j, w in enumerate(embedded_vector):\n",
    "        vec_avg[j] = torch.mean(embedded_vector[:j+1], dim = 0)\n",
    "    loop_time.append(time.time() - start)\n",
    "    \n",
    "    start = time.time()\n",
    "    vec_avg = avg_w @ embedded_vector\n",
    "    matrix_time.append(time.time() - start)\n",
    "    \n",
    "    embedded_vector = embedded_vector.to(device)\n",
    "    start = time.time()\n",
    "    vec_avg = avg_w_cuda @ embedded_vector\n",
    "    cuda_time.append(time.time() - start)"
   ]
  },
  {
   "cell_type": "code",
   "execution_count": 54,
   "id": "5fe1ab84-ce23-4b14-a483-238f33e27c67",
   "metadata": {},
   "outputs": [
    {
     "name": "stdout",
     "output_type": "stream",
     "text": [
      "Среднее время используя циклы: 0.0006934642791748047s\n",
      "Среднее время используя матрицы: 4.021883010864258e-05s\n",
      "Среднее время используя CUDA: 3.813028335571289e-05s\n",
      "Матрицы быстрее циклов в ~17 раз\n"
     ]
    }
   ],
   "source": [
    "loop_time = np.asarray(loop_time)\n",
    "matrix_time = np.asarray(matrix_time)\n",
    "cuda_time = np.asarray(cuda_time)\n",
    "\n",
    "print(f\"Среднее время используя циклы: {loop_time.mean()}s\")\n",
    "print(f\"Среднее время используя матрицы: {matrix_time.mean()}s\")\n",
    "print(f\"Среднее время используя CUDA: {cuda_time.mean()}s\")\n",
    "\n",
    "print(f\"Матрицы быстрее циклов в ~{round(loop_time.mean() / matrix_time.mean())} раз\")"
   ]
  },
  {
   "cell_type": "markdown",
   "id": "3b4f1cfd-cc76-4574-aa68-fc6eccf707ae",
   "metadata": {},
   "source": [
    "##### Давайте же посмотрим, получится ли с помощью простого среднего значения улучшить наш loss"
   ]
  },
  {
   "cell_type": "code",
   "execution_count": 55,
   "id": "d5f0ecec-cf84-4355-88ee-4b6dc885d1d7",
   "metadata": {},
   "outputs": [],
   "source": [
    "class SimpleWriter(nn.Module):\n",
    "    def __init__(self, vocab_size, n_embedding, context_length, device):\n",
    "        super(SimpleWriter, self).__init__()\n",
    "        self.context_length = context_length\n",
    "        self.avg_w = torch.tril(torch.ones(context_length, context_length))\n",
    "        self.avg_w = self.avg_w / torch.sum(self.avg_w, 1, keepdim=True)\n",
    "        self.avg_w = self.avg_w.to(device)\n",
    "        self.emb_layer = nn.Embedding(vocab_size, n_embedding) # (V, C)\n",
    "        self.pos_emb_layer = nn.Embedding(context_length, n_embedding) # (T, C)\n",
    "        self.fc = nn.Linear(n_embedding, vocab_size) # (C, V)\n",
    "        self.device = device\n",
    "        \n",
    "    def forward(self, x, y=None):\n",
    "        # X имеет форму (B, T), Y имеет такую же форму\n",
    "        B, T = x.shape\n",
    "        if T <= self.avg_w.size(0):\n",
    "            # If input length is less than or equal to context_length, use a slice of avg_w\n",
    "            avg_w = self.avg_w[:T, :T]\n",
    "        else:\n",
    "            # If input length is greater than context_length, create a new averaging matrix\n",
    "            avg_w = torch.tril(torch.ones(T, T, device=self.device))\n",
    "            avg_w = avg_w / torch.sum(avg_w, 1, keepdim=True)\n",
    "        emb_x = self.emb_layer(x) # на выходe форма (B,T,C)\n",
    "        pos_emb_x = self.pos_emb_layer(torch.arange(T, device=self.device)) # (B, T, C)\n",
    "        x = emb_x + pos_emb_x # # (B, T, C)\n",
    "        emb_x = avg_w @ emb_x\n",
    "        logits = self.fc(x) # (B, T, V)\n",
    "        B, T, V = logits.shape\n",
    "        if y is not None:\n",
    "            logits = logits.view(B*T, V) # (B*T, V)\n",
    "            y = y.view(-1) # (B*T, 1)\n",
    "            loss = F.cross_entropy(logits, y)\n",
    "        else:\n",
    "            loss = None\n",
    "        return logits, loss"
   ]
  },
  {
   "cell_type": "code",
   "execution_count": 56,
   "id": "936d5d33-3cb0-40e4-a659-8535d1bec308",
   "metadata": {},
   "outputs": [
    {
     "name": "stderr",
     "output_type": "stream",
     "text": [
      "Training: 100%|███████████| 10000/10000 [00:16<00:00, 614.56it/s, val_loss=6.52]\n"
     ]
    },
    {
     "name": "stdout",
     "output_type": "stream",
     "text": [
      "Final training loss: 5.797731876373291\n",
      "Final validation loss: 6.515690803527832\n"
     ]
    }
   ],
   "source": [
    "context_length = 8\n",
    "n_embedding = 32\n",
    "batch_size = 32\n",
    "model = SimpleWriter(vocab_size, n_embedding=n_embedding, context_length=context_length, device=device).to(device)\n",
    "optimizer = torch.optim.AdamW(model.parameters(),lr=1e-3)\n",
    "with tqdm(range(10000), desc=\"Training\") as pbar:\n",
    "    for e in pbar:\n",
    "        x, y = get_batch(encoded_data, context_length=context_length, batch_size = batch_size)\n",
    "        logits, loss = model.forward(x, y)\n",
    "        optimizer.zero_grad(set_to_none=True)\n",
    "        loss.backward()\n",
    "        optimizer.step()\n",
    "        if e % 100 == 0:\n",
    "            losses = validate_loss(10, context_length=context_length, batch_size = batch_size)\n",
    "            # Update the tqdm progress bar with the current loss\n",
    "            pbar.set_postfix({\"val_loss\": losses[1].item()})\n",
    "print(f\"Final training loss: {losses[0].item()}\")\n",
    "print(f\"Final validation loss: {losses[1].item()}\")"
   ]
  },
  {
   "cell_type": "code",
   "execution_count": 57,
   "id": "dac0318c-f553-49b4-89c2-625c8a8db6fd",
   "metadata": {},
   "outputs": [
    {
     "name": "stdout",
     "output_type": "stream",
     "text": [
      " Я меня давку.\n",
      "Как таким господинке! Я тебя падил волнения укусали, потом пакетым неделю ему нос. Была вывитель видите, буду на уверены теперь вдруг ничего говорил Алеша, распространалась, почти прежде он в нем, встретились любви.\n",
      "Да, чтоб я хочу даже вижу идвиг h проговорил\n",
      "Это ячь Иван шелциюи к невинные эта понравил? Да не верьте, заключне с серьезным Катерина Ивановна радостно сидеть.\n",
      "О, прохма великение Раскольникова\n"
     ]
    }
   ],
   "source": [
    "text = torch.tensor([encode(\"Я\")], dtype=torch.long).view(1,1).to(device)\n",
    "print(''.join(decode(generate_text(text, 100)[0].tolist())))"
   ]
  },
  {
   "cell_type": "markdown",
   "id": "ef231fa9-9cbd-4c07-92a5-1c8d5486af2a",
   "metadata": {},
   "source": [
    "Честно, среднее значение всех слов ухудшило наши результаты, так что использовать среднее значение не вариант. Если подумать, то это и логично, раньше модель смотрела на последнее слово, и пыталась угадать какое слово должно идти после него. Сейчас же мы из ряда слов делаем какое-то одно слово, непонятное и нам и модели"
   ]
  },
  {
   "cell_type": "markdown",
   "id": "3b0ecb93-4172-4563-ba9b-94a68aebdfd6",
   "metadata": {},
   "source": [
    "Как же нам связать слова между собой, чтобы наша модель могла понять концептуальную связь между словами? Ответ: внимание (attention)"
   ]
  },
  {
   "cell_type": "markdown",
   "id": "0f8cb003-24af-4062-b73f-bdac51045a04",
   "metadata": {},
   "source": [
    "Внимание очень интересный блок в трансформерах и я не могу его лучше объяснить чем сделали это здесь, прошу посмотреть видео, понять что делает блок и как он это делает, потом вернуться сюда и попробовать написать его самому: https://www.youtube.com/watch?v=eMlx5fFNoYc"
   ]
  },
  {
   "attachments": {
    "5631ff89-3561-450e-9400-49be3a3bae71.png": {
     "image/png": "[encoded data removed]"
    }
   },
   "cell_type": "markdown",
   "id": "a3bd061a-40c3-412e-844b-ef855979e206",
   "metadata": {},
   "source": [
    "![image.png](attachment:5631ff89-3561-450e-9400-49be3a3bae71.png)"
   ]
  },
  {
   "cell_type": "code",
   "execution_count": 58,
   "id": "3ebdbe6c-47a7-4d65-8c3b-878e0187caf1",
   "metadata": {},
   "outputs": [],
   "source": [
    "class SingleHeadAttention(nn.Module):\n",
    "    def __init__(self, embedding_dim, attention_dim):\n",
    "        super(SingleHeadAttention, self).__init__()\n",
    "        self.k = nn.Linear(embedding_dim, attention_dim, bias=False)\n",
    "        self.q = nn.Linear(embedding_dim, attention_dim, bias=False)\n",
    "        self.v = nn.Linear(embedding_dim, attention_dim, bias=False)\n",
    "        self.attention_dim = attention_dim\n",
    "    def forward(self, x):\n",
    "        # x это наш ряд слов уже встроенный в вектор\n",
    "        # размер х - (размер батча B, размер ряда слов T, размер embedding С\n",
    "        k = self.k(x) # (B, T, A) A - размер блока внимания\n",
    "        q = self.q(x) # (B, T, A)\n",
    "        v = self.v(x) # (B, T, A)\n",
    "        scores = q @ torch.transpose(k, 1, 2) / (self.attention_dim ** 0.5)\n",
    "        triangle = torch.tril(torch.ones(x.shape[1], x.shape[1], device=x.device))\n",
    "        mask = triangle == 0\n",
    "        scores = scores.masked_fill(mask, float('-inf'))\n",
    "        scores = nn.functional.softmax(scores, dim = 2)\n",
    "        return scores @ v"
   ]
  },
  {
   "cell_type": "code",
   "execution_count": 59,
   "id": "7167b81f-c083-4089-9e17-b2466156209f",
   "metadata": {},
   "outputs": [],
   "source": [
    "class SimpleWriter(nn.Module):\n",
    "    def __init__(self, vocab_size, n_embedding, context_length, device):\n",
    "        super(SimpleWriter, self).__init__()\n",
    "        self.context_length = context_length\n",
    "        self.emb_layer = nn.Embedding(vocab_size, n_embedding) # (V, C)\n",
    "        self.pos_emb_layer = nn.Embedding(context_length, n_embedding) # (T, C)\n",
    "        self.fc = nn.Linear(n_embedding, vocab_size) # (C, V)\n",
    "        self.attention = SingleHeadAttention(n_embedding, n_embedding)\n",
    "        self.device = device\n",
    "        self.to(device)\n",
    "    def forward(self, x, y=None):\n",
    "        # X имеет форму (B, T), Y имеет такую же форму\n",
    "        B, T = x.shape\n",
    "        \n",
    "        emb_x = self.emb_layer(x) # на выходe форма (B,T,C)\n",
    "        pos_emb_x = self.pos_emb_layer(torch.arange(T, device=self.device)) # (B, T, C)\n",
    "        x = emb_x + pos_emb_x # # (B, T, C)\n",
    "        x = self.attention(x)\n",
    "        logits = self.fc(x) # (B, T, V)\n",
    "        B, T, V = logits.shape\n",
    "        if y is not None:\n",
    "            logits = logits.view(B*T, V) # (B*T, V)\n",
    "            y = y.view(-1) # (B*T, 1)\n",
    "            loss = F.cross_entropy(logits, y)\n",
    "        else:\n",
    "            loss = None\n",
    "        return logits, loss"
   ]
  },
  {
   "cell_type": "code",
   "execution_count": 60,
   "id": "30479ac9-26be-4618-bcc4-613c77382f15",
   "metadata": {},
   "outputs": [
    {
     "name": "stderr",
     "output_type": "stream",
     "text": [
      "Training: 100%|███████████| 10000/10000 [00:20<00:00, 491.11it/s, val_loss=6.44]"
     ]
    },
    {
     "name": "stdout",
     "output_type": "stream",
     "text": [
      "Final training loss: 5.81032657623291\n",
      "Final validation loss: 6.443750858306885\n"
     ]
    },
    {
     "name": "stderr",
     "output_type": "stream",
     "text": [
      "\n"
     ]
    }
   ],
   "source": [
    "context_length = 8\n",
    "n_embedding = 32\n",
    "batch_size = 32\n",
    "model = SimpleWriter(vocab_size, n_embedding=n_embedding, context_length=context_length, device=device)\n",
    "optimizer = torch.optim.AdamW(model.parameters(),lr=1e-3)\n",
    "with tqdm(range(10000), desc=\"Training\") as pbar:\n",
    "    for e in pbar:\n",
    "        x, y = get_batch(encoded_data, context_length=context_length, batch_size = batch_size)\n",
    "        logits, loss = model.forward(x, y)\n",
    "        optimizer.zero_grad(set_to_none=True)\n",
    "        loss.backward()\n",
    "        optimizer.step()\n",
    "        if e % 100 == 0:\n",
    "            losses = validate_loss(10, context_length=context_length, batch_size = batch_size)\n",
    "            # Update the tqdm progress bar with the current loss\n",
    "            pbar.set_postfix({\"val_loss\": losses[1].item()})\n",
    "print(f\"Final training loss: {losses[0].item()}\")\n",
    "print(f\"Final validation loss: {losses[1].item()}\")"
   ]
  },
  {
   "cell_type": "code",
   "execution_count": 61,
   "id": "f7efa020-3d30-4958-9da6-2e96b7ee8a66",
   "metadata": {},
   "outputs": [
    {
     "name": "stdout",
     "output_type": "stream",
     "text": [
      " Я только ни одногомите не все, ход.\n",
      "Надоточки. Князь этих нагло, он у нас водобрал его жест, убиваются на попавар с, но ведь это он чувствовал, что исчез молодого обвиницался из непрляло, помолчал, что недавно; не могли на полу, пред собою уверяю буду какой-то много сидлоп, это сам и проч у насами, вот, тенел улицу, не может быть. Чий Ставрогин! согласен. При повореннаяра\n"
     ]
    }
   ],
   "source": [
    "text = torch.tensor([encode(\"Я\")], dtype=torch.long).view(1,1).to(device)\n",
    "print(''.join(decode(generate_text(text, 100)[0].tolist())))"
   ]
  },
  {
   "cell_type": "code",
   "execution_count": 63,
   "id": "87b01ab0-59aa-40df-b00d-c2f8f3a2fcc4",
   "metadata": {},
   "outputs": [],
   "source": [
    "class SingleHeadAttention(nn.Module):\n",
    "    def __init__(self, embedding_dim, context_length, head_size, dropout):\n",
    "        super(SingleHeadAttention, self).__init__()\n",
    "        self.k = nn.Linear(embedding_dim, head_size, bias=False)\n",
    "        self.q = nn.Linear(embedding_dim, head_size, bias=False)\n",
    "        self.v = nn.Linear(embedding_dim, head_size, bias=False)\n",
    "        self.dropout = nn.Dropout(dropout)     \n",
    "        self.register_buffer('tril', torch.tril(torch.ones(context_length, context_length)))\n",
    "\n",
    "    def forward(self, x):\n",
    "        # x это наш ряд слов уже встроенный в вектор\n",
    "        # размер х - (размер батча B, размер ряда слов T, размер embedding С\n",
    "        k = self.k(x) # (B, T, A) A - размер блока внимания (head_size)\n",
    "        q = self.q(x) # (B, T, A)\n",
    "        v = self.v(x) # (B, T, A)\n",
    "        scores = q @ torch.transpose(k, -2, -1) * k.shape[-1]**-0.5\n",
    "        scores = scores.masked_fill(self.tril[:k.shape[1], :k.shape[1]] == 0, float('-inf'))\n",
    "        scores = F.softmax(scores, dim = -1)\n",
    "        scores = self.dropout(scores)\n",
    "        return scores @ v\n",
    "\n",
    "class MultiHeadAttention(nn.Module):\n",
    "    def __init__(self, embedding_dim, context_length, num_heads, head_size, dropout):\n",
    "        super().__init__()\n",
    "        self.heads = nn.ModuleList([SingleHeadAttention(embedding_dim, context_length, head_size, dropout) for _ in range(num_heads)])\n",
    "        self.proj = nn.Linear(head_size * num_heads, embedding_dim)\n",
    "        self.dropout = nn.Dropout(dropout)\n",
    "    def forward(self, x):\n",
    "        out = torch.cat([h(x) for h in self.heads], dim=-1)\n",
    "        out = self.dropout(self.proj(out))\n",
    "        return out\n",
    "\n",
    "class FeedForward(nn.Module):\n",
    "    def __init__(self, embedding_dim, dropout):\n",
    "        super().__init__()\n",
    "        self.net = nn.Sequential(\n",
    "            nn.Linear(embedding_dim, 4 * embedding_dim),\n",
    "            nn.ReLU(),\n",
    "            nn.Linear(4 * embedding_dim, embedding_dim),\n",
    "            nn.Dropout(dropout),\n",
    "        )\n",
    "\n",
    "    def forward(self, x):\n",
    "        return self.net(x)\n",
    "\n",
    "class Block(nn.Module):\n",
    "\n",
    "    def __init__(self, embedding_dim, context_length, num_heads, dropout):\n",
    "        # embedding_dim: embedding dimension, num_heads: the number of heads we'd like\n",
    "        super().__init__()\n",
    "        head_size = embedding_dim // num_heads\n",
    "        self.sa = MultiHeadAttention(embedding_dim, context_length, num_heads, head_size, dropout)\n",
    "        self.ffwd = FeedForward(embedding_dim, dropout)\n",
    "        self.ln1 = nn.LayerNorm(embedding_dim)\n",
    "        self.ln2 = nn.LayerNorm(embedding_dim)\n",
    "\n",
    "    def forward(self, x):\n",
    "        x = x + self.sa(self.ln1(x))\n",
    "        x = x + self.ffwd(self.ln2(x))\n",
    "        return x\n",
    "\n",
    "class GPT(nn.Module):\n",
    "\n",
    "    def __init__(self, vocab_size, context_length, embedding_dim, num_heads, num_layers, dropout):\n",
    "        super().__init__()\n",
    "        # each token directly reads off the logits for the next token from a lookup table\n",
    "        self.embedding_layer = nn.Embedding(vocab_size, embedding_dim)\n",
    "        self.position_embedding_layer = nn.Embedding(context_length, embedding_dim)\n",
    "        \n",
    "        self.blocks = nn.Sequential(*[Block(embedding_dim, context_length, num_heads, dropout) for _ in range(num_layers)])\n",
    "        self.ln_f = nn.LayerNorm(embedding_dim) # final layer norm\n",
    "        self.lm_head = nn.Linear(embedding_dim, vocab_size)\n",
    "\n",
    "        # better init, not covered in the original GPT video, but important, will cover in followup video\n",
    "        self.apply(self._init_weights)\n",
    "\n",
    "    def _init_weights(self, module):\n",
    "        if isinstance(module, nn.Linear):\n",
    "            torch.nn.init.normal_(module.weight, mean=0.0, std=0.02)\n",
    "            if module.bias is not None:\n",
    "                torch.nn.init.zeros_(module.bias)\n",
    "        elif isinstance(module, nn.Embedding):\n",
    "            torch.nn.init.normal_(module.weight, mean=0.0, std=0.02)\n",
    "\n",
    "    def forward(self, x, targets=None):\n",
    "        B, T = x.shape\n",
    "\n",
    "        # x and targets are both (B,T) tensor of integers\n",
    "        tok_emb = self.embedding_layer(x) # (B,T,C)\n",
    "        pos_emb = self.position_embedding_layer(torch.arange(T, device=x.device)) # (T,C)\n",
    "        x = tok_emb + pos_emb # (B,T,C)\n",
    "        x = self.blocks(x) # (B,T,C)\n",
    "        x = self.ln_f(x) # (B,T,C)\n",
    "        logits = self.lm_head(x) # (B,T,vocab_size)\n",
    "\n",
    "        if targets is None:\n",
    "            loss = None\n",
    "        else:\n",
    "            B, T, C = logits.shape\n",
    "            logits = logits.view(B*T, C)\n",
    "            targets = targets.view(B*T)\n",
    "            loss = F.cross_entropy(logits, targets)\n",
    "\n",
    "        return logits, loss\n",
    "\n",
    "def generate_text(model, x, max_words, context_length):\n",
    "    model.eval()\n",
    "    with torch.no_grad():\n",
    "        for _ in range(max_words):\n",
    "            if x.size(1) > context_length:\n",
    "                logits, loss = model.forward(x[:, -context_length:]) # (B, V)\n",
    "            else:\n",
    "                logits, loss = model.forward(x) # (B, V)\n",
    "            logits = logits[:,-1, :]\n",
    "            probs = F.softmax(logits, dim=-1)\n",
    "            next_word = torch.multinomial(probs, num_samples = 1)\n",
    "            # Concatenate the next word to the input sequence\n",
    "            x = torch.cat((x, next_word), dim=1)  # (B, T+1)\n",
    "    model.train()\n",
    "    return x\n",
    "\n",
    "def validate_loss(n, context_length, batch_size):\n",
    "    out = {}\n",
    "    model.eval()\n",
    "    with torch.no_grad():\n",
    "        train_losses = torch.zeros(n)\n",
    "        val_losses = torch.zeros(n)\n",
    "        for k in range(n):\n",
    "            x, y = get_batch(encoded_data, context_length, batch_size)\n",
    "            logits, loss = model.forward(x, y)\n",
    "            train_losses[k] = loss.item()\n",
    "            \n",
    "            x, y = get_batch(encoded_val_data, context_length, batch_size)\n",
    "            logits, loss = model.forward(x, y)\n",
    "            val_losses[k] = loss.item()\n",
    "            \n",
    "    model.train()\n",
    "    return train_losses.mean(), val_losses.mean()"
   ]
  },
  {
   "cell_type": "code",
   "execution_count": 64,
   "id": "bd6e1a07-0658-4cca-9e3d-494b775781d8",
   "metadata": {},
   "outputs": [
    {
     "name": "stdout",
     "output_type": "stream",
     "text": [
      "0.359984 M parameters\n"
     ]
    }
   ],
   "source": [
    "batch_size = 64\n",
    "context_length = 256\n",
    "embedding_dim = 16\n",
    "num_heads = 8\n",
    "num_layers = 8\n",
    "dropout = 0.2\n",
    "eval_period = 1000\n",
    "eval_iter = 20\n",
    "model = GPT(vocab_size=vocab_size, context_length = context_length, \n",
    "            embedding_dim = embedding_dim, num_heads = num_heads, \n",
    "            num_layers = num_layers, dropout=dropout).to(device)\n",
    "print(sum(p.numel() for p in model.parameters())/1e6, 'M parameters')"
   ]
  },
  {
   "cell_type": "code",
   "execution_count": 65,
   "id": "b69dd0e5-c374-4843-a2fb-91467f92bb63",
   "metadata": {},
   "outputs": [
    {
     "name": "stderr",
     "output_type": "stream",
     "text": [
      "Training: 100%|████████| 100000/100000 [4:08:08<00:00,  6.72it/s, val_loss=5.91]"
     ]
    },
    {
     "name": "stdout",
     "output_type": "stream",
     "text": [
      "Final training loss: 5.476614952087402\n",
      "Final validation loss: 5.907269477844238\n",
      "Best validation loss: 5.89942741394043\n"
     ]
    },
    {
     "name": "stderr",
     "output_type": "stream",
     "text": [
      "\n"
     ]
    }
   ],
   "source": [
    "best_val_loss = float('inf')\n",
    "patience = 10\n",
    "no_improve = 0\n",
    "# model.load_state_dict(torch.load('best_model.pth'))\n",
    "optimizer = torch.optim.AdamW(model.parameters(), lr=1e-5)\n",
    "scheduler = torch.optim.lr_scheduler.ReduceLROnPlateau(optimizer, 'min', factor = 0.5, patience=3)\n",
    "val_losses = []\n",
    "with tqdm(range(100000), desc=\"Training\") as pbar:\n",
    "    for e in pbar:\n",
    "        x, y = get_batch(encoded_data, context_length=context_length, batch_size = batch_size)\n",
    "        logits, loss = model.forward(x, y)\n",
    "        optimizer.zero_grad(set_to_none=True)\n",
    "        loss.backward()\n",
    "        optimizer.step()\n",
    "        if e % eval_period == 0:\n",
    "            losses = validate_loss(eval_iter, context_length=context_length, batch_size = batch_size)\n",
    "            # Update the tqdm progress bar with the current loss\n",
    "            pbar.set_postfix({\"val_loss\": losses[1].item()})\n",
    "            val_loss = losses[1].item()\n",
    "            val_losses.append(val_loss)\n",
    "            scheduler.step(val_loss)\n",
    "            if val_loss < best_val_loss:\n",
    "                best_val_loss = val_loss\n",
    "                no_improve = 0\n",
    "                torch.save(model.state_dict(), 'best_model.pth')\n",
    "            else:\n",
    "                no_improve += 1\n",
    "                if no_improve >= patience:\n",
    "                    print(f\"Early stopping at epoch {e}\")\n",
    "                    break\n",
    "\n",
    "print(f\"Final training loss: {losses[0].item()}\")\n",
    "print(f\"Final validation loss: {losses[1].item()}\")\n",
    "print(f\"Best validation loss: {best_val_loss}\")"
   ]
  },
  {
   "cell_type": "code",
   "execution_count": 70,
   "id": "35966c3b-4189-4f97-b621-efd4588f00f5",
   "metadata": {},
   "outputs": [
    {
     "name": "stdout",
     "output_type": "stream",
     "text": [
      " Россия карты никогда у неправ сорок лет нанула с каждым воскресенье противливая низость, действительно и извин есть Евгительного, точно подвигы», и довольно земли, бесконечно своей удивлениемная, как еще скорыми, около, закричие ста комнаты как разним в моем шляпу, положения, и с какой-селаськами и уже был колен! Тут несмотря на комнату в любви песеня, и раздадить в бреду, и целые шагах, и врагами и нельзя! И теперь, это рряду, доволь Антонович не понимая. Он попросил с него, дескать, когда он, некоторые теряя Варвара Петровна в эту мыслей никогда, рад, то, разумеется. «пил Петр Степанович, что проговорить песельенного необыкновенному забнусинке, на свете, глядел в которые это, с содом разгорячляться, картыции отец же вечер был пальто и сем Сделайте бы не пускали свой роковое пред нею, на счастия! Иилось и оттах и дурен черезнием того, ты последние@ с болью не бывцы или, то этот припадках, чтоб у пор съаженном для знаками бывали осмелилось Разумихин, при многих разлиной, напротив, только в гонуающим считал этих семь пробатюшка, все могло бы счастливы «пропался.изм, что бы мог прогрессарбисни помещений Паисий уж там в последний. Кто объяснение не знал, чтоб вы бы глядею, что не совершенно Мите я нас раз ответил вы думаете, на полиная один мы одно с кухню; если вы и знал. Он процаже, в каждом высока, понимаю, что я приду, и подобны цветила в отец Варвары Петровны, державшие того наслелов. И наверно не пишутся, чтобы теперь шампанского и близких словов генерал усмехнулся, и разбойнику сцены, но прибавила на горячопустил оего забичонущений. Затем это лесего бы теперь предужишь за каждом вопросою близ-с, когда столько величайшая несколько точки, скорее в этот день в говорят, за комнату и я несколько, как бенные сбудь насчет человек от обязанности, что и уже не прокина и сама что-то целковых, что будет долрогично и чтоб, до слова-таки это бедная Иваниться в писание.\n",
      "Степелся как вы лежат и понимал вас передавал; и смотрающий, уж что на Смердякова протянул Дунечка вовсе не вдруг в упорная, резко разом, князь и штабс-а\n"
     ]
    }
   ],
   "source": [
    "text = torch.tensor([encode(\"Россия\")], dtype=torch.long).view(1,1).to(device)\n",
    "print(''.join(decode(generate_text(model, text, 500, 64)[0].tolist())))"
   ]
  },
  {
   "cell_type": "code",
   "execution_count": null,
   "id": "435931ec-d8ed-40e9-9dca-c64de4f91a57",
   "metadata": {},
   "outputs": [],
   "source": []
  }
 ],
 "metadata": {
  "kernelspec": {
   "display_name": "Python 3 (ipykernel)",
   "language": "python",
   "name": "python3"
  },
  "language_info": {
   "codemirror_mode": {
    "name": "ipython",
    "version": 3
   },
   "file_extension": ".py",
   "mimetype": "text/x-python",
   "name": "python",
   "nbconvert_exporter": "python",
   "pygments_lexer": "ipython3",
   "version": "3.10.12"
  }
 },
 "nbformat": 4,
 "nbformat_minor": 5
}
